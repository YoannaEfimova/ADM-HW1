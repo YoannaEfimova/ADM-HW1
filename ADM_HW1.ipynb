{
 "cells": [
  {
   "cell_type": "markdown",
   "id": "eb57f909",
   "metadata": {},
   "source": [
    "# ADM HW 1\n",
    "#### Yoanna Efimova"
   ]
  },
  {
   "cell_type": "code",
   "execution_count": 1,
   "id": "b6a09055",
   "metadata": {},
   "outputs": [],
   "source": [
    "import numpy as np\n",
    "import pandas as pd"
   ]
  },
  {
   "cell_type": "markdown",
   "id": "da918fc8",
   "metadata": {},
   "source": [
    "# Problem 1"
   ]
  },
  {
   "cell_type": "markdown",
   "id": "58fcfec4",
   "metadata": {},
   "source": [
    "# Introduction (all – total: 7 - max points: 75)\n",
    "https://www.hackerrank.com/domains/python/py-introduction"
   ]
  },
  {
   "cell_type": "markdown",
   "id": "577fbceb",
   "metadata": {},
   "source": [
    "##### Say \"Hello, World!\" With Python"
   ]
  },
  {
   "cell_type": "code",
   "execution_count": 1,
   "id": "7fe09994",
   "metadata": {},
   "outputs": [
    {
     "name": "stdout",
     "output_type": "stream",
     "text": [
      "Hello, World!\n"
     ]
    }
   ],
   "source": [
    "if __name__ == '__main__':\n",
    "    print(\"Hello, World!\")"
   ]
  },
  {
   "cell_type": "markdown",
   "id": "24f6b53f",
   "metadata": {},
   "source": [
    "##### Python If-Else"
   ]
  },
  {
   "cell_type": "code",
   "execution_count": 2,
   "id": "9c770068",
   "metadata": {},
   "outputs": [
    {
     "name": "stdout",
     "output_type": "stream",
     "text": [
      "3\n",
      "Weird\n"
     ]
    }
   ],
   "source": [
    "#!/bin/python3\n",
    "\n",
    "import math\n",
    "import os\n",
    "import random\n",
    "import re\n",
    "import sys\n",
    "\n",
    "\n",
    "\n",
    "if __name__ == '__main__':\n",
    "    n = int(input().strip())\n",
    "    if n%2 != 0:\n",
    "        print(\"Weird\")\n",
    "    else:\n",
    "        if (n>=2) and (n<=5):\n",
    "            print(\"Not Weird\")\n",
    "        elif (n>=6) and (n<=20):\n",
    "            print(\"Weird\")\n",
    "        elif n>20:\n",
    "            print(\"Not Weird\")"
   ]
  },
  {
   "cell_type": "markdown",
   "id": "432c8f7b",
   "metadata": {},
   "source": [
    "##### Arithmetic Operators"
   ]
  },
  {
   "cell_type": "code",
   "execution_count": 4,
   "id": "90dfab86",
   "metadata": {},
   "outputs": [
    {
     "name": "stdout",
     "output_type": "stream",
     "text": [
      "3\n",
      "5\n",
      "8\n",
      "-2\n",
      "15\n"
     ]
    }
   ],
   "source": [
    "if __name__ == '__main__':\n",
    "    a = int(input())\n",
    "    b = int(input())\n",
    "    print(a+b)\n",
    "    print(a-b)\n",
    "    print(a*b)\n"
   ]
  },
  {
   "cell_type": "markdown",
   "id": "19b2d2d8",
   "metadata": {},
   "source": [
    "##### Python: Division"
   ]
  },
  {
   "cell_type": "code",
   "execution_count": 5,
   "id": "617de749",
   "metadata": {},
   "outputs": [
    {
     "name": "stdout",
     "output_type": "stream",
     "text": [
      "3\n",
      "5\n",
      "0\n",
      "0.6\n"
     ]
    }
   ],
   "source": [
    "if __name__ == '__main__':\n",
    "    a = int(input())\n",
    "    b = int(input())\n",
    "    print(a//b)\n",
    "    print(a/b)\n"
   ]
  },
  {
   "cell_type": "markdown",
   "id": "3c74acb9",
   "metadata": {},
   "source": [
    "##### Loops"
   ]
  },
  {
   "cell_type": "code",
   "execution_count": 6,
   "id": "edb244f5",
   "metadata": {},
   "outputs": [
    {
     "name": "stdout",
     "output_type": "stream",
     "text": [
      "3\n",
      "0\n",
      "1\n",
      "4\n"
     ]
    }
   ],
   "source": [
    "if __name__ == '__main__':\n",
    "    n = int(input())\n",
    "    for i in range(n):\n",
    "        print(i**2)\n"
   ]
  },
  {
   "cell_type": "markdown",
   "id": "318bde8f",
   "metadata": {},
   "source": [
    "##### Write a function"
   ]
  },
  {
   "cell_type": "code",
   "execution_count": 7,
   "id": "84b13cda",
   "metadata": {},
   "outputs": [
    {
     "name": "stdout",
     "output_type": "stream",
     "text": [
      "1990\n",
      "False\n"
     ]
    }
   ],
   "source": [
    "def is_leap(year):\n",
    "    leap = False\n",
    "    \n",
    "    # Write your logic here\n",
    "    \n",
    "    if year % 4 == 0:\n",
    "        if year % 100 != 0:\n",
    "            leap = True\n",
    "        elif (year % 100 == 0) and (year % 400 == 0):\n",
    "            leap = True\n",
    "        \n",
    "    return leap\n",
    "\n",
    "year = int(input())\n",
    "print(is_leap(year))"
   ]
  },
  {
   "cell_type": "markdown",
   "id": "de2e4d3e",
   "metadata": {},
   "source": [
    "##### Print Function"
   ]
  },
  {
   "cell_type": "code",
   "execution_count": 8,
   "id": "43dfcb03",
   "metadata": {},
   "outputs": [
    {
     "name": "stdout",
     "output_type": "stream",
     "text": [
      "3\n",
      "123"
     ]
    }
   ],
   "source": [
    "if __name__ == '__main__':\n",
    "    n = int(input())\n",
    "    for i in range(1,n+1):\n",
    "        print(i, end='')\n"
   ]
  },
  {
   "cell_type": "markdown",
   "id": "dda48b16",
   "metadata": {},
   "source": [
    "# Data types (all – total: 6 - max points: 60)\n",
    "https://www.hackerrank.com/domains/python/py-basic-data-types"
   ]
  },
  {
   "cell_type": "markdown",
   "id": "cde4c229",
   "metadata": {},
   "source": [
    "##### List Comprehensions"
   ]
  },
  {
   "cell_type": "code",
   "execution_count": 26,
   "id": "e24f5a93",
   "metadata": {},
   "outputs": [
    {
     "name": "stdout",
     "output_type": "stream",
     "text": [
      "1\n",
      "1\n",
      "2\n",
      "3\n",
      "[[0, 0, 0], [0, 0, 1], [0, 0, 2], [0, 1, 0], [0, 1, 1], [1, 0, 0], [1, 0, 1], [1, 1, 0], [1, 1, 2]]\n"
     ]
    }
   ],
   "source": [
    "if __name__ == '__main__':\n",
    "    x = int(input())\n",
    "    y = int(input())\n",
    "    z = int(input())\n",
    "    n = int(input())\n",
    "    \n",
    "    # new_list=[]\n",
    "    # for i in range(x+1):\n",
    "    #     for j in range(y+1):\n",
    "    #         for k in range(z+1):\n",
    "    #             new_list.append([i,j,k])\n",
    "                \n",
    "    # final_list = []\n",
    "    # for l in new_list:\n",
    "    #     if sum(l) != n:\n",
    "    #         final_list.append(l)\n",
    "    \n",
    "    \n",
    "    new_list = [[i,j,k] for i in range(x+1) for j in range(y+1) for k in range(z+1)]\n",
    "    \n",
    "    final_list = [l for l in new_list if sum(l) != n]\n",
    "    \n",
    "    print(final_list)             "
   ]
  },
  {
   "cell_type": "markdown",
   "id": "7e42fd17",
   "metadata": {},
   "source": [
    "##### Find the Runner-Up Score!"
   ]
  },
  {
   "cell_type": "code",
   "execution_count": 11,
   "id": "f637c62b",
   "metadata": {},
   "outputs": [
    {
     "name": "stdout",
     "output_type": "stream",
     "text": [
      "5\n",
      "2 3 6 6 5\n",
      "5\n"
     ]
    }
   ],
   "source": [
    "if __name__ == '__main__':\n",
    "    n = int(input())\n",
    "    arr = map(int, input().split())\n",
    "    arr = list(arr)\n",
    "    arr.sort()\n",
    "    unique_values = list(set(arr))\n",
    "    runner_up = unique_values[-2]\n",
    "    print(runner_up)\n"
   ]
  },
  {
   "cell_type": "markdown",
   "id": "2127c090",
   "metadata": {},
   "source": [
    "##### Nested Lists"
   ]
  },
  {
   "cell_type": "code",
   "execution_count": 13,
   "id": "26e9b12e",
   "metadata": {},
   "outputs": [
    {
     "name": "stdout",
     "output_type": "stream",
     "text": [
      "5\n",
      "Harry\n",
      "37.21\n",
      "Berry\n",
      "37.21\n",
      "Tina\n",
      "37.2\n",
      "Akriti\n",
      "41\n",
      "Harsh\n",
      "39\n",
      "Berry\n",
      "Harry\n"
     ]
    }
   ],
   "source": [
    "if __name__ == '__main__':\n",
    "    list_students = []\n",
    "    for _ in range(int(input())):\n",
    "        listB = []\n",
    "        name = input()\n",
    "        listB.append(name)\n",
    "        score = float(input())\n",
    "        listB.append(score)\n",
    "        list_students.append(listB)\n",
    "     \n",
    "    if (len(list_students) < 2):\n",
    "        print('')\n",
    "    elif (len(list_students) > 5):\n",
    "        print('')\n",
    "    else:       \n",
    "        list_students.sort(key = lambda x: x[1])\n",
    "        \n",
    "        scores = [] \n",
    "        for i in list_students:\n",
    "            scores.append(i[1])\n",
    "        unique_scores = set(scores)\n",
    "        \n",
    "        if len(unique_scores) == 1:\n",
    "            print('')\n",
    "        else:\n",
    "            unique_scores = list(unique_scores)\n",
    "            second_lowest = unique_scores[1]\n",
    "\n",
    "            namesSL = []\n",
    "            for i in list_students:\n",
    "                if i[1] == second_lowest:\n",
    "                    namesSL.append(i[0])\n",
    "            \n",
    "            namesSL.sort()\n",
    "            for i in namesSL:\n",
    "                print(i, end='\\n')\n"
   ]
  },
  {
   "cell_type": "markdown",
   "id": "46036e9f",
   "metadata": {},
   "source": [
    "##### Finding the percentage"
   ]
  },
  {
   "cell_type": "code",
   "execution_count": 12,
   "id": "4a441128",
   "metadata": {},
   "outputs": [
    {
     "name": "stdout",
     "output_type": "stream",
     "text": [
      "3\n",
      "Krishna 67 68 69\n",
      "Arjun 70 98 63\n",
      "Malika 52 56 60\n",
      "Malika\n",
      "56.00\n"
     ]
    }
   ],
   "source": [
    "if __name__ == '__main__':\n",
    "    n = int(input())\n",
    "    student_marks = {}\n",
    "    for _ in range(n):\n",
    "        name, *line = input().split()\n",
    "        scores = list(map(float, line))\n",
    "        student_marks[name] = scores\n",
    "    query_name = input()\n",
    "    \n",
    "    avg = sum(student_marks[query_name]) / len(student_marks[query_name])\n",
    "    avg = \"{:.2f}\".format(avg)\n",
    "    print(avg)\n"
   ]
  },
  {
   "cell_type": "markdown",
   "id": "466168d4",
   "metadata": {},
   "source": [
    "##### Lists"
   ]
  },
  {
   "cell_type": "code",
   "execution_count": 25,
   "id": "ac6cbb31",
   "metadata": {},
   "outputs": [
    {
     "name": "stdout",
     "output_type": "stream",
     "text": [
      "4\n",
      "append 1\n",
      "append 2\n",
      "insert 3 1 \n",
      "print\n",
      "[1, 2, 1]\n"
     ]
    }
   ],
   "source": [
    "if __name__ == '__main__':\n",
    "    N = int(input())\n",
    "    list_commands = []\n",
    "    \n",
    "    for i in range(N):\n",
    "        command = str(input())\n",
    "        list_commands.append(command)\n",
    "        \n",
    "    if 'remove' in list_commands[0]:\n",
    "        print('')\n",
    "    elif 'pop' in list_commands[0]:\n",
    "        print('')\n",
    "    else:\n",
    "        list_commands2=[]\n",
    "        for i in list_commands:\n",
    "            list_commands2.append(\" \".join(i.split()))\n",
    "        \n",
    "        my_list = []\n",
    "        for c in list_commands2:\n",
    "            if 'insert' in c:\n",
    "                separated_comm = c.split()\n",
    "                index = int(separated_comm[1]) \n",
    "                elem = int(separated_comm[2])\n",
    "                my_list.insert(index,elem)\n",
    "            elif 'print' in c:\n",
    "                print(my_list)\n",
    "            elif 'remove' in c:\n",
    "                # remove the first occurance of integer e\n",
    "                e = int(c[7:])\n",
    "                my_list.remove(e)\n",
    "            elif 'append' in c:\n",
    "                new_elem = int(c[7:])\n",
    "                my_list.append(new_elem)    \n",
    "            elif 'sort' in c:\n",
    "                my_list.sort()\n",
    "            elif 'pop' in c:\n",
    "                my_list = my_list[:-1]\n",
    "            elif 'reverse' in c:\n",
    "                my_list.reverse()\n"
   ]
  },
  {
   "cell_type": "markdown",
   "id": "2fa56c20",
   "metadata": {},
   "source": [
    "##### Tuples"
   ]
  },
  {
   "cell_type": "code",
   "execution_count": 18,
   "id": "e4aba89d",
   "metadata": {},
   "outputs": [
    {
     "name": "stdout",
     "output_type": "stream",
     "text": [
      "2\n",
      "1 2\n",
      "-3550055125485641917\n"
     ]
    }
   ],
   "source": [
    "if __name__ == '__main__':\n",
    "    n = int(input())\n",
    "    integer_list = map(int, input().split())\n",
    "    integer_list = list(integer_list)\n",
    "    \n",
    "    t = tuple()\n",
    "    for i in integer_list:\n",
    "        t += i,\n",
    "    \n",
    "    print(hash(t))\n"
   ]
  },
  {
   "cell_type": "markdown",
   "id": "fe877b2b",
   "metadata": {},
   "source": [
    "# Strings (all – total: 14 - max points: 220)\n",
    "https://www.hackerrank.com/domains/python/py-strings"
   ]
  },
  {
   "cell_type": "markdown",
   "id": "ac9e1e3e",
   "metadata": {},
   "source": [
    "##### sWAP cASE"
   ]
  },
  {
   "cell_type": "code",
   "execution_count": 10,
   "id": "573ad45e",
   "metadata": {},
   "outputs": [
    {
     "name": "stdout",
     "output_type": "stream",
     "text": [
      "HackerRank.com presents \"Pythonist 2\".\n",
      "hACKERrANK.COM PRESENTS \"pYTHONIST 2\".\n"
     ]
    }
   ],
   "source": [
    "def swap_case(s):\n",
    "    if (len(s) <= 0) or (len(s) > 1000):\n",
    "        string = ''\n",
    "        return string\n",
    "    else:     \n",
    "        new_list = []\n",
    "        for i in range(len(s)):\n",
    "            if s[i].isupper() == True:\n",
    "                new = s[i].lower()\n",
    "                new_list.append(new)\n",
    "            elif s[i].islower() == True:\n",
    "                new = s[i].upper()\n",
    "                new_list.append(new)\n",
    "            else:\n",
    "                new_list.append(s[i])\n",
    "        \n",
    "        new_string = ''\n",
    "        for i in new_list:\n",
    "            new_string += i        \n",
    "    \n",
    "    return new_string\n",
    "\n",
    "if __name__ == '__main__':\n",
    "    s = input()\n",
    "    result = swap_case(s)\n",
    "    print(result)"
   ]
  },
  {
   "cell_type": "markdown",
   "id": "06febede",
   "metadata": {},
   "source": [
    "##### String Split and Join"
   ]
  },
  {
   "cell_type": "code",
   "execution_count": 12,
   "id": "b7ead98e",
   "metadata": {},
   "outputs": [
    {
     "name": "stdout",
     "output_type": "stream",
     "text": [
      "this is a string\n",
      "this-is-a-string\n"
     ]
    }
   ],
   "source": [
    "def split_and_join(line):\n",
    "    # write your code here\n",
    "    list_char = line.split(\" \")\n",
    "    new_string = \"-\".join(list_char)\n",
    "    return new_string\n",
    "\n",
    "if __name__ == '__main__':\n",
    "    line = input()\n",
    "    result = split_and_join(line)\n",
    "    print(result)"
   ]
  },
  {
   "cell_type": "markdown",
   "id": "839c8f28",
   "metadata": {},
   "source": [
    "##### What's Your Name?"
   ]
  },
  {
   "cell_type": "code",
   "execution_count": 15,
   "id": "115dc30c",
   "metadata": {},
   "outputs": [
    {
     "name": "stdout",
     "output_type": "stream",
     "text": [
      "Yoanna\n",
      "Efimova\n",
      "Hello Yoanna Efimova! You just delved into python.\n"
     ]
    }
   ],
   "source": [
    "#\n",
    "# Complete the 'print_full_name' function below.\n",
    "#\n",
    "# The function is expected to return a STRING.\n",
    "# The function accepts following parameters:\n",
    "#  1. STRING first\n",
    "#  2. STRING last\n",
    "#\n",
    "\n",
    "def print_full_name(first, last):\n",
    "    # Write your code here\n",
    "    sentence = 'Hello ' + first + ' ' + last + '! You just delved into python.'\n",
    "    print(sentence)\n",
    "\n",
    "if __name__ == '__main__':\n",
    "    first_name = input()\n",
    "    last_name = input()\n",
    "    print_full_name(first_name, last_name)"
   ]
  },
  {
   "cell_type": "markdown",
   "id": "714be4f5",
   "metadata": {},
   "source": [
    "##### Mutations"
   ]
  },
  {
   "cell_type": "code",
   "execution_count": 16,
   "id": "b9f637e2",
   "metadata": {},
   "outputs": [
    {
     "name": "stdout",
     "output_type": "stream",
     "text": [
      "abracadabra\n",
      "5 k\n",
      "abrackdabra\n"
     ]
    }
   ],
   "source": [
    "def mutate_string(string, position, character):    \n",
    "    new_string = string[:position] + character + string[position+1:]\n",
    "    return new_string\n",
    "\n",
    "\n",
    "if __name__ == '__main__':\n",
    "    s = input()\n",
    "    i, c = input().split()\n",
    "    s_new = mutate_string(s, int(i), c)\n",
    "    print(s_new)"
   ]
  },
  {
   "cell_type": "markdown",
   "id": "cf5ff722",
   "metadata": {},
   "source": [
    "##### Find a string"
   ]
  },
  {
   "cell_type": "code",
   "execution_count": 134,
   "id": "1a31614c",
   "metadata": {},
   "outputs": [
    {
     "name": "stdout",
     "output_type": "stream",
     "text": [
      "ABCDCDC\n",
      "CDC\n",
      "2\n"
     ]
    }
   ],
   "source": [
    "def count_substring(string, sub_string):\n",
    "    if (len(string) < 1) or (len(string) > 200):\n",
    "        return(\"\")\n",
    "    else:\n",
    "        num_occur = 0\n",
    "        for i in range(len(string)):\n",
    "            if string[i:].startswith(sub_string):\n",
    "                num_occur += 1\n",
    "    \n",
    "    return num_occur\n",
    "    \n",
    "    \n",
    "if __name__ == '__main__':\n",
    "    string = input().strip()\n",
    "    sub_string = input().strip()\n",
    "    \n",
    "    count = count_substring(string, sub_string)\n",
    "    print(count)"
   ]
  },
  {
   "cell_type": "markdown",
   "id": "fc70e22e",
   "metadata": {},
   "source": [
    "##### String Validators"
   ]
  },
  {
   "cell_type": "code",
   "execution_count": 17,
   "id": "a69fbba6",
   "metadata": {},
   "outputs": [
    {
     "name": "stdout",
     "output_type": "stream",
     "text": [
      "qA2\n",
      "True\n",
      "True\n",
      "True\n",
      "True\n",
      "True\n"
     ]
    }
   ],
   "source": [
    "if __name__ == '__main__':\n",
    "    s = input()\n",
    "    if (len(s) <= 0) or (len(s) >= 1000):\n",
    "        print('')\n",
    "    else:\n",
    "        i = 0\n",
    "        result1 = False\n",
    "        while i < len(s):\n",
    "            if s[i].isalnum() == True:\n",
    "                result1 = True\n",
    "                break\n",
    "            i+=1\n",
    "        print(result1)\n",
    "        \n",
    "        j = 0\n",
    "        result2 = False\n",
    "        while j < len(s):\n",
    "            if s[j].isalpha() == True:\n",
    "                result2 = True\n",
    "                break\n",
    "            j+=1\n",
    "        print(result2)\n",
    "        \n",
    "        k = 0\n",
    "        result3 = False\n",
    "        while k < len(s):\n",
    "            if s[k].isdigit() == True:\n",
    "                result3 = True\n",
    "                break\n",
    "            k+=1\n",
    "        print(result3)\n",
    "        \n",
    "        p = 0\n",
    "        result4 = False\n",
    "        while p < len(s):\n",
    "            if s[p].islower() == True:\n",
    "                result4 = True\n",
    "                break\n",
    "            p+=1\n",
    "        print(result4)\n",
    "        \n",
    "        t = 0\n",
    "        result5 = False\n",
    "        while t < len(s):\n",
    "            if s[t].isupper() == True:\n",
    "                result5 = True\n",
    "                break\n",
    "            t+=1\n",
    "        print(result5)"
   ]
  },
  {
   "cell_type": "markdown",
   "id": "322c9270",
   "metadata": {},
   "source": [
    "##### Text Alignment"
   ]
  },
  {
   "cell_type": "code",
   "execution_count": 13,
   "id": "af732b41",
   "metadata": {},
   "outputs": [
    {
     "name": "stdout",
     "output_type": "stream",
     "text": [
      "5\n",
      "    H    \n",
      "   HHH   \n",
      "  HHHHH  \n",
      " HHHHHHH \n",
      "HHHHHHHHH\n",
      "  HHHHH               HHHHH             \n",
      "  HHHHH               HHHHH             \n",
      "  HHHHH               HHHHH             \n",
      "  HHHHH               HHHHH             \n",
      "  HHHHH               HHHHH             \n",
      "  HHHHH               HHHHH             \n",
      "  HHHHHHHHHHHHHHHHHHHHHHHHH   \n",
      "  HHHHHHHHHHHHHHHHHHHHHHHHH   \n",
      "  HHHHHHHHHHHHHHHHHHHHHHHHH   \n",
      "  HHHHH               HHHHH             \n",
      "  HHHHH               HHHHH             \n",
      "  HHHHH               HHHHH             \n",
      "  HHHHH               HHHHH             \n",
      "  HHHHH               HHHHH             \n",
      "  HHHHH               HHHHH             \n",
      "                    HHHHHHHHH \n",
      "                     HHHHHHH  \n",
      "                      HHHHH   \n",
      "                       HHH    \n",
      "                        H     \n"
     ]
    }
   ],
   "source": [
    "#Replace all ______ with rjust, ljust or center. \n",
    "\n",
    "thickness = int(input()) #This must be an odd number\n",
    "c = 'H'\n",
    "\n",
    "#Top Cone\n",
    "for i in range(thickness):\n",
    "    print((c*i).rjust(thickness-1)+c+(c*i).ljust(thickness-1))\n",
    "\n",
    "#Top Pillars\n",
    "for i in range(thickness+1):\n",
    "    print((c*thickness).center(thickness*2)+(c*thickness).center(thickness*6))\n",
    "\n",
    "#Middle Belt\n",
    "for i in range((thickness+1)//2):\n",
    "    print((c*thickness*5).center(thickness*6))    \n",
    "\n",
    "#Bottom Pillars\n",
    "for i in range(thickness+1):\n",
    "    print((c*thickness).center(thickness*2)+(c*thickness).center(thickness*6))    \n",
    "\n",
    "#Bottom Cone\n",
    "for i in range(thickness):\n",
    "    print(((c*(thickness-i-1)).rjust(thickness)+c+(c*(thickness-i-1)).ljust(thickness)).rjust(thickness*6))\n"
   ]
  },
  {
   "cell_type": "markdown",
   "id": "3a552ab2",
   "metadata": {},
   "source": [
    "##### Text Wrap"
   ]
  },
  {
   "cell_type": "code",
   "execution_count": 14,
   "id": "8c91c857",
   "metadata": {},
   "outputs": [
    {
     "name": "stdout",
     "output_type": "stream",
     "text": [
      "ABCDEFGHIJKLIMNOQRSTUVWXYZ\n",
      "4\n",
      "ABCD\n",
      "EFGH\n",
      "IJKL\n",
      "IMNO\n",
      "QRST\n",
      "UVWX\n",
      "YZ\n"
     ]
    }
   ],
   "source": [
    "import textwrap\n",
    "\n",
    "def wrap(string, max_width):\n",
    "    return textwrap.fill(string,max_width)\n",
    "\n",
    "if __name__ == '__main__':\n",
    "    string, max_width = input(), int(input())\n",
    "    result = wrap(string, max_width)\n",
    "    print(result)"
   ]
  },
  {
   "cell_type": "markdown",
   "id": "2c03099e",
   "metadata": {},
   "source": [
    "##### Designer Door Mat"
   ]
  },
  {
   "cell_type": "code",
   "execution_count": 262,
   "id": "a3f02660",
   "metadata": {},
   "outputs": [
    {
     "name": "stdout",
     "output_type": "stream",
     "text": [
      "9 27\n",
      "------------.|.------------\n",
      "---------.|..|..|.---------\n",
      "------.|..|..|..|..|.------\n",
      "---.|..|..|..|..|..|..|.---\n",
      "----------WELCOME----------\n",
      "---.|..|..|..|..|..|..|.---\n",
      "------.|..|..|..|..|.------\n",
      "---------.|..|..|.---------\n",
      "------------.|.------------\n"
     ]
    }
   ],
   "source": [
    "# Enter your code here. Read input from STDIN. Print output to STDOUT\n",
    "\n",
    "NM = list(map(int, input().split()))\n",
    "N = NM[0]\n",
    "M = NM[1]\n",
    "\n",
    "if (N<=5) or (N>=101):\n",
    "    print('')\n",
    "elif (M<=15) or (M>=303):\n",
    "    print('')\n",
    "else: \n",
    "    num_pattern = 1   \n",
    "    for i in range(1,N//2+1):\n",
    "        sign = '.|.' * num_pattern\n",
    "        num_pattern += 2\n",
    "        print(sign.center(M,'-'))\n",
    "    \n",
    "    print('WELCOME'.center(M,'-'))\n",
    "    \n",
    "    num_pattern -= 2\n",
    "    for j in range(N//2+2,N+1):\n",
    "        sign = '.|.' * num_pattern\n",
    "        num_pattern -= 2\n",
    "        print(sign.center(M,'-'))\n",
    "        "
   ]
  },
  {
   "cell_type": "markdown",
   "id": "504e141e",
   "metadata": {},
   "source": [
    "##### String Formatting"
   ]
  },
  {
   "cell_type": "code",
   "execution_count": 156,
   "id": "14312ae1",
   "metadata": {},
   "outputs": [
    {
     "name": "stdout",
     "output_type": "stream",
     "text": [
      "25\n",
      "    1     1     1     1\n",
      "    2     2     2    10\n",
      "    3     3     3    11\n",
      "    4     4     4   100\n",
      "    5     5     5   101\n",
      "    6     6     6   110\n",
      "    7     7     7   111\n",
      "    8    10     8  1000\n",
      "    9    11     9  1001\n",
      "   10    12     A  1010\n",
      "   11    13     B  1011\n",
      "   12    14     C  1100\n",
      "   13    15     D  1101\n",
      "   14    16     E  1110\n",
      "   15    17     F  1111\n",
      "   16    20    10 10000\n",
      "   17    21    11 10001\n",
      "   18    22    12 10010\n",
      "   19    23    13 10011\n",
      "   20    24    14 10100\n",
      "   21    25    15 10101\n",
      "   22    26    16 10110\n",
      "   23    27    17 10111\n",
      "   24    30    18 11000\n",
      "   25    31    19 11001\n"
     ]
    }
   ],
   "source": [
    "def print_formatted(number):\n",
    "    # your code goes here\n",
    "    if (number<1) or (number>99):\n",
    "        print(\"\")\n",
    "    else:\n",
    "        width_binary_num = len(\"{0:b}\".format(number))\n",
    "        \n",
    "        for i in range(1,number+1):\n",
    "            decimal = str(i)\n",
    "            octal = \"{:o}\".format(i)\n",
    "            hexadecimal = \"{:x}\".format(i).upper()\n",
    "            binary = \"{0:b}\".format(i)\n",
    "            \n",
    "            print(decimal.rjust(width_binary_num),octal.rjust(width_binary_num),hexadecimal.rjust(width_binary_num),binary.rjust(width_binary_num))\n",
    "\n",
    "if __name__ == '__main__':\n",
    "    n = int(input())\n",
    "    print_formatted(n)"
   ]
  },
  {
   "cell_type": "markdown",
   "id": "fee2a0be",
   "metadata": {},
   "source": [
    "##### Alphabet Rangoli"
   ]
  },
  {
   "cell_type": "code",
   "execution_count": 203,
   "id": "3691ffb3",
   "metadata": {},
   "outputs": [
    {
     "name": "stdout",
     "output_type": "stream",
     "text": [
      "5\n",
      "--------e--------\n",
      "------e-d-e------\n",
      "----e-d-c-d-e----\n",
      "--e-d-c-b-c-d-e--\n",
      "e-d-c-b-a-b-c-d-e\n",
      "--e-d-c-b-c-d-e--\n",
      "----e-d-c-d-e----\n",
      "------e-d-e------\n",
      "--------e--------\n"
     ]
    }
   ],
   "source": [
    "import string\n",
    "\n",
    "def print_rangoli(size):\n",
    "    # your code goes here\n",
    "    if (size<=0) or (size>=27):\n",
    "        print(\"\")\n",
    "    else:        \n",
    "        alphabet = string.ascii_lowercase\n",
    "        for i in range(size-1,-1,-1):\n",
    "            letters = alphabet[size-1:i:-1] + alphabet[i:size]\n",
    "            letters = \"-\".join(letters)\n",
    "            print(letters.center(size*4-3,\"-\"))\n",
    "\n",
    "        for j in range(1,size):\n",
    "            letters = alphabet[size-1:j:-1] + alphabet[j:size]\n",
    "            letters = \"-\".join(letters) \n",
    "            print(letters.center(size*4-3,\"-\"))\n",
    "            \n",
    "if __name__ == '__main__':\n",
    "    n = int(input())\n",
    "    print_rangoli(n)"
   ]
  },
  {
   "cell_type": "markdown",
   "id": "07401f43",
   "metadata": {},
   "source": [
    "##### Capitalize!"
   ]
  },
  {
   "cell_type": "code",
   "execution_count": 19,
   "id": "56af7adb",
   "metadata": {},
   "outputs": [
    {
     "name": "stdout",
     "output_type": "stream",
     "text": [
      "chris alan\n"
     ]
    },
    {
     "data": {
      "text/plain": [
       "'Chris Alan'"
      ]
     },
     "execution_count": 19,
     "metadata": {},
     "output_type": "execute_result"
    }
   ],
   "source": [
    "#!/bin/python3\n",
    "\n",
    "import math\n",
    "import os\n",
    "import random\n",
    "import re\n",
    "import sys\n",
    "\n",
    "# Complete the solve function below.\n",
    "def solve(s):\n",
    "    s_char = s.replace(\" \", \"\")\n",
    "    \n",
    "    if s_char.isalnum() == False:\n",
    "        name=''\n",
    "        return name\n",
    "    elif (len(s) <= 0) or (len(s) >= 1000):\n",
    "        name = ''\n",
    "        return name\n",
    "    else:\n",
    "        s = s.strip()\n",
    "        list_name = list(s)\n",
    "\n",
    "        new_list = [list_name[0].upper()]\n",
    "        for i in range(1,len(list_name)):\n",
    "            if list_name[i-1] == ' ':\n",
    "                new_list.append(list_name[i].upper())\n",
    "            else:\n",
    "                new_list.append(list_name[i])\n",
    "            \n",
    "        final_name = ''\n",
    "        for i in new_list:\n",
    "            final_name += i\n",
    "            \n",
    "        return final_name\n",
    "    \n",
    "\n",
    "s = input()\n",
    "\n",
    "result = solve(s)\n",
    "\n",
    "result"
   ]
  },
  {
   "cell_type": "markdown",
   "id": "d6a6d5bd",
   "metadata": {},
   "source": [
    "##### The Minion Game"
   ]
  },
  {
   "cell_type": "markdown",
   "id": "0a496d7e",
   "metadata": {},
   "source": [
    "Initially I could not pass all test cases so I looked at the Discussion part for different ideas on how to solve the prblem."
   ]
  },
  {
   "cell_type": "code",
   "execution_count": 209,
   "id": "afa6557f",
   "metadata": {},
   "outputs": [
    {
     "name": "stdout",
     "output_type": "stream",
     "text": [
      "BANANA\n",
      "Stuart 12\n"
     ]
    }
   ],
   "source": [
    "def minion_game(string):\n",
    "    # your code goes here\n",
    "    if (len(string)<=0) or (len(string)>1000000):\n",
    "        print(\"\")\n",
    "    else:\n",
    "        name_score = {'Stuart':0, 'Kevin':0}\n",
    "        vowels = ['A', 'E', 'I', 'O', 'U']\n",
    "        n = len(string)\n",
    "        \n",
    "        for i in range(n):\n",
    "            if(string[i] in 'AEOUI'):\n",
    "                # there are n number of substrings that start with letter of index i\n",
    "                name_score['Kevin'] += n - i\n",
    "            else:\n",
    "                name_score['Stuart'] += n - i\n",
    "        \n",
    "        if name_score['Kevin'] == name_score['Stuart']:\n",
    "            print(\"Draw\")\n",
    "        elif name_score['Kevin'] > name_score['Stuart']:\n",
    "            print(\"Kevin \" + str(name_score['Kevin']))\n",
    "        else:\n",
    "            print(\"Stuart \" + str(name_score['Stuart']))\n",
    "\n",
    "if __name__ == '__main__':\n",
    "    s = input()\n",
    "    minion_game(s)"
   ]
  },
  {
   "cell_type": "markdown",
   "id": "0739d23f",
   "metadata": {},
   "source": [
    "##### Merge the Tools!"
   ]
  },
  {
   "cell_type": "code",
   "execution_count": 207,
   "id": "db81c02d",
   "metadata": {},
   "outputs": [
    {
     "name": "stdout",
     "output_type": "stream",
     "text": [
      "ABACDEFGF\n",
      "3\n",
      "AB\n",
      "CDE\n",
      "FG\n"
     ]
    }
   ],
   "source": [
    "import textwrap\n",
    "\n",
    "def merge_the_tools(string, k):\n",
    "    # your code goes here\n",
    "    n = len(string)\n",
    "    if (n<1) or (n>10000):\n",
    "        print(\"\")\n",
    "    elif (k<1) or (k>n):\n",
    "        print(\"\")\n",
    "    elif n % k != 0:\n",
    "        print(\"\")\n",
    "    else:\n",
    "        substr = textwrap.wrap(string, k)\n",
    "        \n",
    "        for i in substr:\n",
    "            new_substr = \"\".join(dict.fromkeys(i))\n",
    "            print(new_substr)\n",
    "    \n",
    "\n",
    "if __name__ == '__main__':\n",
    "    string, k = input(), int(input())\n",
    "    merge_the_tools(string, k)"
   ]
  },
  {
   "cell_type": "markdown",
   "id": "1753957f",
   "metadata": {},
   "source": [
    "# Sets (all – total: 13 - max points: 170)\n",
    "https://www.hackerrank.com/domains/python/py-sets"
   ]
  },
  {
   "cell_type": "markdown",
   "id": "67daba59",
   "metadata": {},
   "source": [
    "##### Introduction to Sets"
   ]
  },
  {
   "cell_type": "code",
   "execution_count": 20,
   "id": "3d79473e",
   "metadata": {},
   "outputs": [
    {
     "name": "stdout",
     "output_type": "stream",
     "text": [
      "10\n",
      "161 182 161 154 176 170 167 171 170 174\n",
      "169.375\n"
     ]
    }
   ],
   "source": [
    "def average(array):\n",
    "    # your code goes here\n",
    "    \n",
    "    distinct_heights = set(array)\n",
    "    total_number = len(distinct_heights)\n",
    "    \n",
    "    sum_dist_heights = 0\n",
    "    for h in distinct_heights:\n",
    "        sum_dist_heights += h\n",
    "    \n",
    "    average = sum_dist_heights / total_number\n",
    "    return average\n",
    "    \n",
    "\n",
    "if __name__ == '__main__':\n",
    "    n = int(input())\n",
    "    arr = list(map(int, input().split()))\n",
    "    result = average(arr)\n",
    "    print(result)"
   ]
  },
  {
   "cell_type": "markdown",
   "id": "a1002aaf",
   "metadata": {},
   "source": [
    "##### No Idea!"
   ]
  },
  {
   "cell_type": "code",
   "execution_count": 264,
   "id": "a7187aff",
   "metadata": {},
   "outputs": [
    {
     "name": "stdout",
     "output_type": "stream",
     "text": [
      "3 2\n",
      "1 5 3\n",
      "3 1 \n",
      "5 7\n",
      "1\n"
     ]
    }
   ],
   "source": [
    "# Enter your code here. Read input from STDIN. Print output to STDOUT\n",
    "\n",
    "nm = list(map(int,input().split()))\n",
    "n = nm[0]\n",
    "m = nm[1]\n",
    "\n",
    "if (n<1) or (n>100000) or (m<1) or (m>100000):\n",
    "    print('')\n",
    "else:\n",
    "    Array = list(map(int,input().split()))\n",
    "    A = set(map(int,input().split()))\n",
    "    B = set(map(int,input().split()))\n",
    "    \n",
    "    happiness = 0\n",
    "    for i in Array:\n",
    "        if i in A:\n",
    "            happiness += 1\n",
    "        if i in B:\n",
    "            happiness -= 1\n",
    "    print(happiness)\n",
    "        "
   ]
  },
  {
   "cell_type": "markdown",
   "id": "fecaa785",
   "metadata": {},
   "source": [
    "##### Symmetric Difference"
   ]
  },
  {
   "cell_type": "code",
   "execution_count": 21,
   "id": "5330d411",
   "metadata": {},
   "outputs": [
    {
     "name": "stdout",
     "output_type": "stream",
     "text": [
      "4\n",
      "2 4 5 9\n",
      "4 \n",
      "2 4 11 12\n",
      "5\n",
      "9\n",
      "11\n",
      "12\n"
     ]
    }
   ],
   "source": [
    "# Enter your code here. Read input from STDIN. Print output to STDOUT\n",
    "\n",
    "M = int(input())\n",
    "arr_M = list(map(int, input().split()))\n",
    "set_M = set(arr_M)\n",
    "\n",
    "N = int(input())\n",
    "arr_N = list(map(int, input().split()))\n",
    "set_N = set(arr_N)\n",
    "\n",
    "M_dif_N = set_M.difference(set_N)\n",
    "N_dif_M = set_N.difference(set_M)\n",
    "\n",
    "sym_dif = M_dif_N.union(N_dif_M)\n",
    "\n",
    "list1 = []\n",
    "for i in sym_dif:\n",
    "    list1.append(i)\n",
    "list1.sort()\n",
    "\n",
    "for j in list1:\n",
    "    print(j)\n",
    " "
   ]
  },
  {
   "cell_type": "markdown",
   "id": "9c3270ea",
   "metadata": {},
   "source": [
    "##### Set .add()"
   ]
  },
  {
   "cell_type": "code",
   "execution_count": 22,
   "id": "698b11ce",
   "metadata": {},
   "outputs": [
    {
     "name": "stdout",
     "output_type": "stream",
     "text": [
      "7\n",
      "UK\n",
      "China\n",
      "USA\n",
      "France\n",
      "New Zealand\n",
      "UK\n",
      "France\n",
      "5\n"
     ]
    }
   ],
   "source": [
    "# Enter your code here. Read input from STDIN. Print output to STDOUT\n",
    "\n",
    "N = int(input())\n",
    "countries = [input() for _ in range(N)]\n",
    "\n",
    "if (N <= 0) or (N >= 1000):\n",
    "    print('')\n",
    "else:\n",
    "    set_countries = set(countries)\n",
    "    print(len(set_countries)) "
   ]
  },
  {
   "cell_type": "markdown",
   "id": "3ce9cbbd",
   "metadata": {},
   "source": [
    "##### Set .discard(), .remove() & .pop()"
   ]
  },
  {
   "cell_type": "code",
   "execution_count": 42,
   "id": "2e16abef",
   "metadata": {},
   "outputs": [
    {
     "name": "stdout",
     "output_type": "stream",
     "text": [
      "3\n",
      "1 1 2\n",
      "1\n",
      "remove 1\n",
      "2\n"
     ]
    }
   ],
   "source": [
    "n = int(input())\n",
    "s = set(map(int, input().split()))  #non-empty set\n",
    "\n",
    "N = int(input())\n",
    "commands = [str(input()) for _ in range(N)]\n",
    "\n",
    "\n",
    "if (n<=0) or (n>=20):\n",
    "    print('')\n",
    "elif (N<=0) or (N>=20):\n",
    "    print('')\n",
    "else:\n",
    "    for c in commands:\n",
    "        if 'pop' in c:\n",
    "            if len(s) > 0:\n",
    "                s.pop()\n",
    "        elif 'remove' in c:\n",
    "            c = \"\".join(c.split())\n",
    "            elem = int(c[-1])\n",
    "            if len(s) > 0:\n",
    "                s.remove(elem)\n",
    "        elif 'discard' in c:\n",
    "            c = \"\".join(c.split())\n",
    "            elem = int(c[-1])\n",
    "            if len(s) > 0:\n",
    "                s.discard(elem)  \n",
    "    \n",
    "    s_sum = sum(s)      \n",
    "    print(s_sum)\n"
   ]
  },
  {
   "cell_type": "markdown",
   "id": "326e259c",
   "metadata": {},
   "source": [
    "##### Set .union() Operation"
   ]
  },
  {
   "cell_type": "code",
   "execution_count": 45,
   "id": "d8e77856",
   "metadata": {},
   "outputs": [
    {
     "name": "stdout",
     "output_type": "stream",
     "text": [
      "9\n",
      "1 2 3 4 5 6 7 8 9\n",
      "9\n",
      "10 1 2 3 11 21 55 6 8\n",
      "13\n"
     ]
    }
   ],
   "source": [
    "# Enter your code here. Read input from STDIN. Print output to STDOUT\n",
    "\n",
    "n = int(input())\n",
    "set_n = set(map(int, input().split()))\n",
    "\n",
    "b = int(input())\n",
    "set_b = set(map(int, input().split()))\n",
    "\n",
    "union_students = set_n.union(set_b)\n",
    "\n",
    "if (len(union_students)<=0) or (len(union_students)>=1000):\n",
    "    print('')\n",
    "else:\n",
    "    total_num = len(union_students)\n",
    "    print(total_num)"
   ]
  },
  {
   "cell_type": "markdown",
   "id": "cd67657e",
   "metadata": {},
   "source": [
    "##### Set .intersection() Operation"
   ]
  },
  {
   "cell_type": "code",
   "execution_count": 46,
   "id": "a3fef870",
   "metadata": {},
   "outputs": [
    {
     "name": "stdout",
     "output_type": "stream",
     "text": [
      "9\n",
      "1 2 3 4 5 6 7 8 9\n",
      "9\n",
      "10 1 2 3 11 21 55 6 8\n",
      "5\n"
     ]
    }
   ],
   "source": [
    "# Enter your code here. Read input from STDIN. Print output to STDOUT\n",
    "\n",
    "n = int(input())\n",
    "set_n = set(map(int, input().split()))\n",
    "\n",
    "b = int(input())\n",
    "set_b = set(map(int, input().split()))\n",
    "\n",
    "union_students = set_n.union(set_b)\n",
    "stud_both_classes = set_n.intersection(set_b)\n",
    "\n",
    "if (len(union_students)<=0) or (len(union_students)>=1000):\n",
    "    print('')\n",
    "else:\n",
    "    print(len(stud_both_classes))"
   ]
  },
  {
   "cell_type": "markdown",
   "id": "f4d60a39",
   "metadata": {},
   "source": [
    "##### Set .difference() Operation"
   ]
  },
  {
   "cell_type": "code",
   "execution_count": 47,
   "id": "8c639f1d",
   "metadata": {},
   "outputs": [
    {
     "name": "stdout",
     "output_type": "stream",
     "text": [
      "9\n",
      "1 2 3 4 5 6 7 8 9\n",
      "9\n",
      "10 1 2 3 11 21 55 6 8\n",
      "4\n"
     ]
    }
   ],
   "source": [
    "# Enter your code here. Read input from STDIN. Print output to STDOUT\n",
    "\n",
    "n = int(input())\n",
    "set_n = set(map(int, input().split()))\n",
    "\n",
    "b = int(input())\n",
    "set_b = set(map(int, input().split()))\n",
    "\n",
    "union_students = set_n.union(set_b)\n",
    "only_english = set_n.difference(set_b)\n",
    "\n",
    "if (len(union_students)<=0) or (len(union_students)>=1000):\n",
    "    print('')\n",
    "else:\n",
    "    print(len(only_english))"
   ]
  },
  {
   "cell_type": "markdown",
   "id": "f5ca53c7",
   "metadata": {},
   "source": [
    "##### Set .symmetric_difference() Operation"
   ]
  },
  {
   "cell_type": "code",
   "execution_count": 48,
   "id": "d3774b13",
   "metadata": {},
   "outputs": [
    {
     "name": "stdout",
     "output_type": "stream",
     "text": [
      "9\n",
      "1 2 3 4 5 6 7 8 9\n",
      "9\n",
      "10 1 2 3 11 21 55 6 8\n",
      "8\n"
     ]
    }
   ],
   "source": [
    "# Enter your code here. Read input from STDIN. Print output to STDOUT\n",
    "\n",
    "n = int(input())\n",
    "set_n = set(map(int, input().split()))\n",
    "\n",
    "b = int(input())\n",
    "set_b = set(map(int, input().split()))\n",
    "\n",
    "union_students = set_n.union(set_b)\n",
    "in_only_1class = set_n.symmetric_difference(set_b)\n",
    "\n",
    "if (len(union_students)<=0) or (len(union_students)>=1000):\n",
    "    print('')\n",
    "else:\n",
    "    print(len(in_only_1class))"
   ]
  },
  {
   "cell_type": "markdown",
   "id": "5f039976",
   "metadata": {},
   "source": [
    "##### Set Mutations"
   ]
  },
  {
   "cell_type": "code",
   "execution_count": 211,
   "id": "fca8aa8a",
   "metadata": {},
   "outputs": [
    {
     "name": "stdout",
     "output_type": "stream",
     "text": [
      "16\n",
      " 1 2 3 4 5 6 7 8 9 10 11 12 13 14 24 52\n",
      "4\n",
      "intersection_update 10\n",
      "2 3 5 6 8 9 1 4 7 11\n",
      "update 2\n",
      "55 66\n",
      "symmetric_difference_update 5\n",
      "22 7 35 62 58\n",
      "difference_update 7\n",
      "11 22 35 55 58 62 66\n",
      "38\n"
     ]
    }
   ],
   "source": [
    "# Enter your code here. Read input from STDIN. Print output to STDOUT\n",
    "\n",
    "num_A = int(input())\n",
    "A = list(map(int, input().split()))\n",
    "\n",
    "# nummber of other sets\n",
    "N = int(input())\n",
    "\n",
    "commands = []\n",
    "for i in range(N):\n",
    "    operation = str(input())\n",
    "    other_list = list(map(int, input().split()))\n",
    "    if (len(other_list)<=0) or (len(other_list)>=100):\n",
    "            print('')\n",
    "            break\n",
    "    commands.append([operation,other_list])\n",
    "    \n",
    "    \n",
    "if (len(A)<=0) or (len(A)>=1000):\n",
    "    print('')\n",
    "elif (len(A)<=0) or (len(A)>=1000):\n",
    "    print('')\n",
    "else:\n",
    "    set_A = set(A)\n",
    "    for c in commands:\n",
    "        if \"intersection_update\" in c[0]:\n",
    "            set_A.intersection_update(set(c[1]))\n",
    "        elif c[0][0] == \"u\":\n",
    "            set_A.update(set(c[1]))\n",
    "        elif (\"difference\" in c[0]) and (\"symm\" not in c[0]):\n",
    "            set_A.difference_update(set(c[1]))\n",
    "        elif \"symmetric\" in c[0]:\n",
    "            set_A.symmetric_difference_update(set(c[1]))\n",
    "        \n",
    "        \n",
    "    print(sum(set_A))\n"
   ]
  },
  {
   "cell_type": "markdown",
   "id": "992c3553",
   "metadata": {},
   "source": [
    "##### The Captain's Room"
   ]
  },
  {
   "cell_type": "code",
   "execution_count": 219,
   "id": "db6da175",
   "metadata": {},
   "outputs": [
    {
     "name": "stdout",
     "output_type": "stream",
     "text": [
      "5\n",
      "1 2 3 6 5 4 4 2 5 3 6 1 6 5 3 2 4 1 2 5 1 4 3 6 8 4 3 1 5 6 2\n",
      "8\n"
     ]
    }
   ],
   "source": [
    "# Enter your code here. Read input from STDIN. Print output to STDOUT\n",
    "\n",
    "from collections import Counter\n",
    "\n",
    "K = int(input())\n",
    "rooms_list = list(map(int, input().split()))\n",
    "\n",
    "if (K<=1) or (K>=1000):\n",
    "    print('')\n",
    "else:\n",
    "    room_nums = Counter(rooms_list)\n",
    "    cap_room = [k for k,v in room_nums.items() if v==1]\n",
    "    print(cap_room[0])\n"
   ]
  },
  {
   "cell_type": "markdown",
   "id": "987fb33b",
   "metadata": {},
   "source": [
    "##### Check Subset"
   ]
  },
  {
   "cell_type": "code",
   "execution_count": 213,
   "id": "b5a061ea",
   "metadata": {},
   "outputs": [
    {
     "name": "stdout",
     "output_type": "stream",
     "text": [
      "3\n",
      "5\n",
      "1 2 3 5 6\n",
      "9\n",
      "9 8 5 6 3 2 1 4 7\n",
      "1\n",
      "2\n",
      "5\n",
      "3 6 5 4 1\n",
      "7\n",
      "1 2 3 5 6 8 9\n",
      "3\n",
      "9 8 2\n",
      "True\n",
      "False\n",
      "False\n"
     ]
    }
   ],
   "source": [
    "# Enter your code here. Read input from STDIN. Print output to STDOUT\n",
    "\n",
    "T = int(input())\n",
    "\n",
    "if (T<=0) or (T>=21):\n",
    "    print('')\n",
    "else:\n",
    "    lists = []\n",
    "    for i in range(T):\n",
    "        A_num = int(input())\n",
    "        if (A_num<=0) or (A_num>=1001):\n",
    "            print('')\n",
    "            break\n",
    "        A = list(map(int, input().split()))\n",
    "        A = set(A)\n",
    "        \n",
    "        B_num = int(input())\n",
    "        if (B_num<=0) or (B_num>=1001):\n",
    "            print('')\n",
    "            break\n",
    "        B = list(map(int, input().split()))\n",
    "        B = set(B)\n",
    "        \n",
    "        lists.append([A,B])\n",
    "        \n",
    "    for i in range(T):\n",
    "        print(lists[i][0].issubset(lists[i][1]))"
   ]
  },
  {
   "cell_type": "markdown",
   "id": "2b2c6796",
   "metadata": {},
   "source": [
    "##### Check Strict Superset"
   ]
  },
  {
   "cell_type": "code",
   "execution_count": 218,
   "id": "f511d69b",
   "metadata": {},
   "outputs": [
    {
     "name": "stdout",
     "output_type": "stream",
     "text": [
      "1 2 3 4 5 6 7 8 9 10 11 12 23 45 84 78\n",
      "2\n",
      "1 2 3 4 5\n",
      "100 11 12\n",
      "False\n"
     ]
    }
   ],
   "source": [
    "# Enter your code here. Read input from STDIN. Print output to STDOUT\n",
    "\n",
    "A = list(map(int, input().split()))\n",
    "A = set(A)\n",
    "\n",
    "if (len(A)<=0) or (len(A)>=501):\n",
    "    print('')\n",
    "else:\n",
    "    n = int(input())\n",
    "    if (n<=0) or (n>=21):\n",
    "        print('')\n",
    "    else:\n",
    "        other_sets = []\n",
    "        \n",
    "        for i in range(n):\n",
    "            set_i = list(map(int, input().split()))\n",
    "            set_i = set(set_i)\n",
    "            if (len(set_i)<=0) or (len(set_i)>=101):\n",
    "                print('')\n",
    "                break\n",
    "            other_sets.append(set_i)\n",
    "        \n",
    "        # check whether A is a strict superset of each of the n sets\n",
    "        result = \"True\"\n",
    "        \n",
    "        for i in range(len(other_sets)):\n",
    "            if len(other_sets[i]) == len(A):\n",
    "                result = \"False\"\n",
    "                break\n",
    "            if other_sets[i].issubset(A) == False:\n",
    "                result = \"False\"\n",
    "                break\n",
    "        \n",
    "        print(result)"
   ]
  },
  {
   "cell_type": "markdown",
   "id": "1c246e6f",
   "metadata": {},
   "source": [
    "# Collections (all – total: 8 - max points: 220)\n",
    "https://www.hackerrank.com/domains/python/py-collections"
   ]
  },
  {
   "cell_type": "markdown",
   "id": "251683b7",
   "metadata": {},
   "source": [
    "##### collections.Counter()"
   ]
  },
  {
   "cell_type": "code",
   "execution_count": 225,
   "id": "3db017f2",
   "metadata": {},
   "outputs": [
    {
     "name": "stdout",
     "output_type": "stream",
     "text": [
      "10\n",
      "2 3 4 5 6 8 7 6 5 18\n",
      "6\n",
      "6 55\n",
      "6 45\n",
      "6 55\n",
      "4 40\n",
      "18 60\n",
      "10 50\n",
      "200\n"
     ]
    }
   ],
   "source": [
    "# Enter your code here. Read input from STDIN. Print output to STDOUT\n",
    "from collections import Counter\n",
    "\n",
    "X = int(input())\n",
    "if (X<=0) or (X>=1000):\n",
    "    print('')\n",
    "else:\n",
    "    shoes_shop = list(map(int, input().split()))\n",
    "    shoes = Counter(shoes_shop)\n",
    "    \n",
    "    N = int(input())\n",
    "    \n",
    "    if (N<=0) or (N>1000):\n",
    "        print('')\n",
    "    else:\n",
    "        customers = []\n",
    "        for i in range(N):\n",
    "            size_money = list(map(int, input().split()))\n",
    "            size = size_money[0]\n",
    "            money = size_money[1] \n",
    "            if (size<2) or (size>20) or (money<20) or (money>100):\n",
    "                print('')\n",
    "            else:\n",
    "                customers.append(size_money)\n",
    "        \n",
    "        R_money = 0\n",
    "        for c in customers:\n",
    "            if c[0] in shoes.keys():\n",
    "                if shoes[c[0]] > 0:\n",
    "                    R_money += c[1]\n",
    "                    shoes[c[0]] -= 1\n",
    "        \n",
    "        print(R_money)\n"
   ]
  },
  {
   "cell_type": "markdown",
   "id": "b6d8f706",
   "metadata": {},
   "source": [
    "##### DefaultDict Tutorial"
   ]
  },
  {
   "cell_type": "code",
   "execution_count": 226,
   "id": "6b14663a",
   "metadata": {},
   "outputs": [
    {
     "name": "stdout",
     "output_type": "stream",
     "text": [
      "5 2\n",
      "a\n",
      "a\n",
      "b\n",
      "a\n",
      "b\n",
      "a\n",
      "b\n",
      "1 2 4 \n",
      "3 5 \n"
     ]
    }
   ],
   "source": [
    "# Enter your code here. Read input from STDIN. Print output to STDOUT\n",
    "\n",
    "from collections import defaultdict\n",
    "\n",
    "n_m = list(map(int, input().split()))\n",
    "n = n_m[0]\n",
    "m = n_m[1]\n",
    "\n",
    "if (n<1) or (n>10000) or (m<1) or (m>100):\n",
    "    print('')\n",
    "else:\n",
    "    A = [input() for _ in range(n)]\n",
    "    B = [input() for _ in range(m)]\n",
    "    \n",
    "    idx_B_in_A = []\n",
    "    for word in B:\n",
    "        indices = []\n",
    "        if word in A:\n",
    "            for i in range(len(A)):\n",
    "                if A[i] == word:\n",
    "                    indices.append(A.index(A[i], i, len(A))+1)\n",
    "        else:\n",
    "            indices.append(-1)\n",
    "        idx_B_in_A.append(indices)\n",
    "            \n",
    "    for l in idx_B_in_A:\n",
    "        for elem in l:\n",
    "            print(elem, end=\" \")\n",
    "        print(\"\")\n",
    "        "
   ]
  },
  {
   "cell_type": "markdown",
   "id": "b701344f",
   "metadata": {},
   "source": [
    "##### Collections.namedtuple()"
   ]
  },
  {
   "cell_type": "code",
   "execution_count": 227,
   "id": "388344d4",
   "metadata": {},
   "outputs": [
    {
     "name": "stdout",
     "output_type": "stream",
     "text": [
      "5\n",
      "MARKS      CLASS      NAME       ID        \n",
      "92         2          Calum      1        \n",
      "82         5          Scott      2         \n",
      "94         2          Jason      3          \n",
      "55         8          Glenn      4          \n",
      "82         2          Fergus     5\n",
      "81.0\n"
     ]
    }
   ],
   "source": [
    "# Enter your code here. Read input from STDIN. Print output to STDOUT\n",
    "\n",
    "from collections import namedtuple\n",
    "\n",
    "S = namedtuple('S', 'ID MARKS CLASS NAME')\n",
    "\n",
    "N = int(input())\n",
    "\n",
    "if (N<=0) or (N>100):\n",
    "    print('')\n",
    "else:\n",
    "    cols = list(map(str, input().split()))\n",
    "    if ('ID' not in cols) or ('MARKS' not in cols) or ('CLASS' not in cols) or ('NAME' not in cols) or len(cols)!=4:\n",
    "        print('')\n",
    "    else:\n",
    "        # indices of the columns\n",
    "        idx_ID = cols.index('ID')\n",
    "        idx_M = cols.index('MARKS')\n",
    "        idx_C = cols.index('CLASS')\n",
    "        idx_N = cols.index('NAME')\n",
    "                \n",
    "        students = []\n",
    "        all_marks = []\n",
    "        \n",
    "        for s in range(N):\n",
    "            person = list(map(str, input().split()))\n",
    "            Id = person[idx_ID]\n",
    "            Marks = person[idx_M]\n",
    "            Class = person[idx_C]\n",
    "            Name = person[idx_N]\n",
    "            \n",
    "            stud = S(ID = Id, MARKS = Marks, CLASS = Class, NAME = Name)\n",
    "            students.append(stud)\n",
    "            all_marks.append(int(Marks))\n",
    "        \n",
    "        avg_mark = sum(all_marks) / len(students)\n",
    "        print(avg_mark)"
   ]
  },
  {
   "cell_type": "markdown",
   "id": "7041fd04",
   "metadata": {},
   "source": [
    "##### Collections.OrderedDict()"
   ]
  },
  {
   "cell_type": "code",
   "execution_count": 228,
   "id": "35336c4b",
   "metadata": {},
   "outputs": [
    {
     "name": "stdout",
     "output_type": "stream",
     "text": [
      "9\n",
      "BANANA FRIES 12\n",
      "POTATO CHIPS 30\n",
      "APPLE JUICE 10\n",
      "CANDY 5\n",
      "APPLE JUICE 10\n",
      "CANDY 5\n",
      "CANDY 5\n",
      "CANDY 5\n",
      "POTATO CHIPS 30\n",
      "BANANA FRIES 12\n",
      "POTATO CHIPS 60\n",
      "APPLE JUICE 20\n",
      "CANDY 20\n"
     ]
    }
   ],
   "source": [
    "# Enter your code here. Read input from STDIN. Print output to STDOUT\n",
    "\n",
    "from collections import OrderedDict\n",
    "\n",
    "# number of items\n",
    "N = int(input())\n",
    "\n",
    "if (N<=0) or (N>100):\n",
    "    print('')\n",
    "else:\n",
    "    items_net_price = OrderedDict()\n",
    "    all_items = []\n",
    "    \n",
    "    for i in range(N):\n",
    "        item = list(map(str, input().split()))\n",
    "        item_name = item[:-1]\n",
    "        item_name = \" \".join(item_name)\n",
    "        item_price = int(item[-1])\n",
    "        all_items.append([item_name,item_price])\n",
    "        \n",
    "    for j in all_items:\n",
    "        items_net_price[j[0]] = 0\n",
    "    \n",
    "    for k in all_items:\n",
    "        items_net_price[k[0]] += k[1]\n",
    "    \n",
    "    for it,pr in items_net_price.items():\n",
    "        print(it, pr)"
   ]
  },
  {
   "cell_type": "markdown",
   "id": "dd069b9c",
   "metadata": {},
   "source": [
    "##### Word Order"
   ]
  },
  {
   "cell_type": "code",
   "execution_count": 231,
   "id": "8c82a3df",
   "metadata": {},
   "outputs": [
    {
     "name": "stdout",
     "output_type": "stream",
     "text": [
      "4\n",
      "bcdef\n",
      "abcdefg\n",
      "bcde\n",
      "bcdef\n",
      "3\n",
      "2 1 1 "
     ]
    }
   ],
   "source": [
    "# Enter your code here. Read input from STDIN. Print output to STDOUT\n",
    "from collections import OrderedDict\n",
    "\n",
    "# number of words\n",
    "n = int(input())\n",
    "\n",
    "if (n<1) or (n>100000):\n",
    "    print('')\n",
    "else:\n",
    "    all_words = [input() for _ in range(n)]\n",
    "    \n",
    "    # check whether the words are all lowercase\n",
    "    assert all((w.islower() == True) for w in all_words)\n",
    "    \n",
    "    sum_len_words = [sum(len(w) for w in all_words)][0]\n",
    "    \n",
    "    if sum_len_words > 1000000:\n",
    "        print('')\n",
    "    else:\n",
    "        # find the number of unique words\n",
    "        unique_words = set(all_words)\n",
    "        print(len(unique_words))\n",
    "        \n",
    "        words_count = OrderedDict()\n",
    "        for j in all_words:\n",
    "            words_count[j] = 0\n",
    "            \n",
    "        for k in all_words:\n",
    "            words_count[k] += 1\n",
    "    \n",
    "        for word,count in words_count.items():\n",
    "            print(count, end=' ')\n"
   ]
  },
  {
   "cell_type": "markdown",
   "id": "bf4a90b8",
   "metadata": {},
   "source": [
    "##### Collections.deque()"
   ]
  },
  {
   "cell_type": "code",
   "execution_count": 232,
   "id": "8d59540b",
   "metadata": {},
   "outputs": [
    {
     "name": "stdout",
     "output_type": "stream",
     "text": [
      "6\n",
      "append 1\n",
      "append 2\n",
      "append 3\n",
      "appendleft 4\n",
      "pop\n",
      "popleft\n",
      "1 2 "
     ]
    }
   ],
   "source": [
    "# Enter your code here. Read input from STDIN. Print output to STDOUT\n",
    "from collections import deque\n",
    "\n",
    "# number of operations\n",
    "N = int(input())\n",
    "\n",
    "if (N<=0) or (N>100):\n",
    "    print('')\n",
    "else:\n",
    "    commands = [input().split() for _ in range(N)]\n",
    "    \n",
    "    d = deque()\n",
    "    \n",
    "    for c in commands:\n",
    "        if c[0] == 'append':\n",
    "            d.append(int(c[1]))\n",
    "        elif c[0] == 'pop':\n",
    "            d.pop()\n",
    "        elif c[0] == 'popleft':\n",
    "            d.popleft()\n",
    "        elif c[0] == 'appendleft':\n",
    "            d.appendleft(int(c[1]))\n",
    "    \n",
    "    for elem in d:\n",
    "        print(elem, end = ' ')\n"
   ]
  },
  {
   "cell_type": "markdown",
   "id": "a8a615b8",
   "metadata": {},
   "source": [
    "##### Piling Up!"
   ]
  },
  {
   "cell_type": "code",
   "execution_count": 241,
   "id": "dece1b9a",
   "metadata": {},
   "outputs": [
    {
     "name": "stdout",
     "output_type": "stream",
     "text": [
      "2\n",
      "6\n",
      "4 3 2 1 3 4\n",
      "3\n",
      "1 3 2\n",
      "Yes\n",
      "No\n"
     ]
    }
   ],
   "source": [
    "# Enter your code here. Read input from STDIN. Print output to STDOUT\n",
    "from collections import deque\n",
    "\n",
    "# number of test cases\n",
    "T = int(input())\n",
    "\n",
    "if (T<1) or (T>5):\n",
    "    print('')\n",
    "else:\n",
    "    cubes = []\n",
    "    for i in range(T):\n",
    "        num_cubes = int(input())\n",
    "        if (num_cubes<1) or (num_cubes>100000):\n",
    "            print('')\n",
    "            break\n",
    "        else:\n",
    "            sideLengths = deque(map(int, input().split()))\n",
    "            assert all((j>=1) or (j<2**31) for j in sideLengths)\n",
    "            cubes.append(sideLengths)\n",
    "            \n",
    "    for c in cubes:\n",
    "        for j in range(len(c)-1):\n",
    "            if (c[0]>=c[1]) and (c[0]>=c[-1]):\n",
    "                c.popleft()\n",
    "            elif (c[-1]>=c[-2]) and (c[-1]>=c[0]):\n",
    "                c.pop()\n",
    "            else:\n",
    "                break\n",
    "        \n",
    "        if len(c) <= 1:\n",
    "            print(\"Yes\")\n",
    "        else:\n",
    "            print(\"No\")"
   ]
  },
  {
   "cell_type": "markdown",
   "id": "a8a5d24e",
   "metadata": {},
   "source": [
    "##### Company Logo"
   ]
  },
  {
   "cell_type": "code",
   "execution_count": 233,
   "id": "c57381a7",
   "metadata": {},
   "outputs": [
    {
     "name": "stdout",
     "output_type": "stream",
     "text": [
      "aabbbccde\n",
      "b 3\n",
      "a 2\n",
      "c 2\n"
     ]
    }
   ],
   "source": [
    "#!/bin/python3\n",
    "\n",
    "import math\n",
    "import os\n",
    "import random\n",
    "import re\n",
    "import sys\n",
    "\n",
    "from collections import Counter\n",
    "\n",
    "if __name__ == '__main__':\n",
    "    s = input()\n",
    "    if (len(s)<=3) or (len(s)>10000):\n",
    "        print('')\n",
    "    elif len(set(s))<3:\n",
    "        print('')\n",
    "    else:\n",
    "        letters_count = Counter(sorted(s))\n",
    "        \n",
    "        for l in letters_count.most_common(3):\n",
    "            print(l[0],l[1])\n",
    "    "
   ]
  },
  {
   "cell_type": "markdown",
   "id": "6f460eb4",
   "metadata": {},
   "source": [
    "# Date and Time (all – total: 2 - max points: 40)\n",
    "https://www.hackerrank.com/domains/python/py-date-time"
   ]
  },
  {
   "cell_type": "markdown",
   "id": "7254cfac",
   "metadata": {},
   "source": [
    "##### Calendar Module"
   ]
  },
  {
   "cell_type": "code",
   "execution_count": 52,
   "id": "0e955949",
   "metadata": {},
   "outputs": [
    {
     "name": "stdout",
     "output_type": "stream",
     "text": [
      "08 05 2015\n",
      "WEDNESDAY\n"
     ]
    }
   ],
   "source": [
    "# Enter your code here. Read input from STDIN. Print output to STDOUT\n",
    "\n",
    "import calendar\n",
    "# print(calendar.TextCalendar(firstweekday=6).formatyear(2015))\n",
    "\n",
    "\n",
    "date = list(map(int, input().split()))\n",
    "\n",
    "if (date[2]<2000) or (date[2]>3000):\n",
    "    print('')\n",
    "else:\n",
    "    day_number = calendar.weekday(date[2], date[0], date[1])\n",
    "    d = {0: 'MONDAY', 1: \"TUESDAY\", 2: \"WEDNESDAY\", 3: \"THURSDAY\", 4: \"FRIDAY\", 5: \"SATURDAY\", 6: \"SUNDAY\"}\n",
    "    day = d[day_number]\n",
    "    print(day)"
   ]
  },
  {
   "cell_type": "markdown",
   "id": "ac0269fd",
   "metadata": {},
   "source": [
    "##### Time Delta"
   ]
  },
  {
   "cell_type": "markdown",
   "id": "4aa0db60",
   "metadata": {},
   "source": [
    "found the dateutil.parser.parse() function in the Discussions Section"
   ]
  },
  {
   "cell_type": "code",
   "execution_count": null,
   "id": "c21a8e66",
   "metadata": {},
   "outputs": [],
   "source": [
    "#!/bin/python3\n",
    "\n",
    "import math\n",
    "import os\n",
    "import random\n",
    "import re\n",
    "import sys\n",
    "\n",
    "import datetime\n",
    "import dateutil.parser\n",
    "\n",
    "# Complete the time_delta function below.\n",
    "def time_delta(t1, t2):\n",
    "    t1 = dateutil.parser.parse(t1,fuzzy=True)\n",
    "    t2 = dateutil.parser.parse(t2,fuzzy=True)\n",
    "    \n",
    "    seconds = abs(t1-t2).total_seconds()\n",
    "    seconds = int(seconds)\n",
    "    time_diff_sec = str(seconds)\n",
    "    return time_diff_sec\n",
    "   \n",
    "\n",
    "if __name__ == '__main__':\n",
    "    fptr = open(os.environ['OUTPUT_PATH'], 'w')\n",
    "\n",
    "    t = int(input())\n",
    "\n",
    "    for t_itr in range(t):\n",
    "        t1 = input()\n",
    "\n",
    "        t2 = input()\n",
    "\n",
    "        delta = time_delta(t1, t2)\n",
    "\n",
    "        fptr.write(delta + '\\n')\n",
    "\n",
    "    fptr.close()\n"
   ]
  },
  {
   "cell_type": "code",
   "execution_count": 58,
   "id": "9d97588c",
   "metadata": {},
   "outputs": [
    {
     "name": "stdout",
     "output_type": "stream",
     "text": [
      "2\n",
      "Sun 10 May 2015 13:54:36 -0700\n",
      "Sun 10 May 2015 13:54:36 -0000\n",
      "Sat 02 May 2015 19:54:36 +0530\n",
      "Fri 01 May 2015 13:54:36 -0000\n",
      "25200\n",
      "88200\n"
     ]
    }
   ],
   "source": [
    "#!/bin/python3\n",
    "\n",
    "import math\n",
    "import os\n",
    "import random\n",
    "import re\n",
    "import sys\n",
    "\n",
    "import datetime\n",
    "import dateutil.parser\n",
    "\n",
    "# Complete the time_delta function below.\n",
    "def time_delta(t1, t2):\n",
    "    t1 = dateutil.parser.parse(t1,fuzzy=True)\n",
    "    t2 = dateutil.parser.parse(t2,fuzzy=True)\n",
    "    \n",
    "    seconds = abs(t1-t2).total_seconds()\n",
    "    seconds = int(seconds)\n",
    "    time_diff_sec = str(seconds)\n",
    "    return time_diff_sec\n",
    "   \n",
    "\n",
    "t = int(input())\n",
    "\n",
    "deltas = []\n",
    "for t_itr in range(t):\n",
    "    t1 = input()\n",
    "\n",
    "    t2 = input()\n",
    "\n",
    "    delta = time_delta(t1, t2)\n",
    "    deltas.append(delta)\n",
    "\n",
    "for d in deltas:\n",
    "    print(d)\n"
   ]
  },
  {
   "cell_type": "markdown",
   "id": "7993c371",
   "metadata": {},
   "source": [
    "# Exceptions (only 1 - max points: 10)\n",
    "https://www.hackerrank.com/challenges/exceptions\n"
   ]
  },
  {
   "cell_type": "markdown",
   "id": "162143e1",
   "metadata": {},
   "source": [
    "##### Exceptions"
   ]
  },
  {
   "cell_type": "code",
   "execution_count": 59,
   "id": "cf82744f",
   "metadata": {},
   "outputs": [
    {
     "name": "stdout",
     "output_type": "stream",
     "text": [
      "3\n",
      "1 0\n",
      "2 $\n",
      "3 1\n",
      "Error Code: integer division or modulo by zero\n",
      "Error Code: invalid literal for int() with base 10: '$'\n",
      "3\n"
     ]
    }
   ],
   "source": [
    "# Enter your code here. Read input from STDIN. Print output to STDOUT\n",
    "\n",
    "T = int(input())\n",
    "\n",
    "numbers = []\n",
    "for i in range(T):\n",
    "    a_b = list(map(str, input().split()))\n",
    "    numbers.append(a_b)\n",
    "\n",
    "if (T<=0) or (T>=100):\n",
    "    print('')\n",
    "else:\n",
    "    for n in numbers:\n",
    "        try:\n",
    "            a = int(n[0])\n",
    "            b = int(n[1])\n",
    "            print(int(a/b))\n",
    "        except ZeroDivisionError as zd:\n",
    "            print(\"Error Code:\", 'integer division or modulo by zero')\n",
    "        except ValueError as ve:\n",
    "            print(\"Error Code:\",ve)"
   ]
  },
  {
   "cell_type": "markdown",
   "id": "335aea13",
   "metadata": {},
   "source": [
    "# Built-ins (only 3 - max points: 80)\n",
    "https://www.hackerrank.com/challenges/zipped"
   ]
  },
  {
   "cell_type": "markdown",
   "id": "268fe076",
   "metadata": {},
   "source": [
    "##### Zipped!"
   ]
  },
  {
   "cell_type": "code",
   "execution_count": 60,
   "id": "83198fd8",
   "metadata": {},
   "outputs": [
    {
     "name": "stdout",
     "output_type": "stream",
     "text": [
      "5 3\n",
      "89 90 78 93 80\n",
      "90 91 85 88 86 \n",
      "91 92 83 89 90.5\n",
      "90.0\n",
      "91.0\n",
      "82.0\n",
      "90.0\n",
      "85.5\n"
     ]
    }
   ],
   "source": [
    "# Enter your code here. Read input from STDIN. Print output to STDOUT\n",
    "\n",
    "N_X = list(map(int, input().split()))\n",
    "N = N_X[0]\n",
    "X = N_X[1]\n",
    "\n",
    "grades_by_subj = []\n",
    "for i in range(X):\n",
    "    grades = list(map(float, input().split()))\n",
    "    grades_by_subj.append(grades)\n",
    "\n",
    "if (N<=0) or (N>100):\n",
    "    print('')\n",
    "elif (X<=0) or (X>100):\n",
    "    print('')\n",
    "else:\n",
    "    for i in range(N):\n",
    "        grades_person = 0\n",
    "        for subj in range(X):\n",
    "            grades_person += grades_by_subj[subj][i]\n",
    "        \n",
    "        average_grade = grades_person / X\n",
    "        print(\"{:.1f}\".format(average_grade))"
   ]
  },
  {
   "cell_type": "markdown",
   "id": "ccda9be1",
   "metadata": {},
   "source": [
    "##### Athlete Sort"
   ]
  },
  {
   "cell_type": "code",
   "execution_count": 61,
   "id": "1e8a0ab0",
   "metadata": {},
   "outputs": [
    {
     "name": "stdout",
     "output_type": "stream",
     "text": [
      "5 3\n",
      "10 2 5\n",
      "7 1 0\n",
      "9 9 9 \n",
      "1 23 12 \n",
      "6 5 9\n",
      "1\n",
      "7 1 0\n",
      "10 2 5\n",
      "6 5 9\n",
      "9 9 9\n",
      "1 23 12\n"
     ]
    }
   ],
   "source": [
    "#!/bin/python3\n",
    "\n",
    "import math\n",
    "import os\n",
    "import random\n",
    "import re\n",
    "import sys\n",
    "\n",
    "\n",
    "\n",
    "if __name__ == '__main__':\n",
    "    nm = input().split()\n",
    "\n",
    "    n = int(nm[0])\n",
    "\n",
    "    m = int(nm[1])\n",
    "\n",
    "    arr = []\n",
    "\n",
    "    for _ in range(n):\n",
    "        arr.append(list(map(int, input().rstrip().split())))\n",
    "\n",
    "    k = int(input())\n",
    "        \n",
    "    sorted_table = arr.sort(key = lambda x: x[k])\n",
    "    \n",
    "    for i in arr:\n",
    "        print(\" \".join(map(str, i)))\n"
   ]
  },
  {
   "cell_type": "markdown",
   "id": "18c6274a",
   "metadata": {},
   "source": [
    "##### ginortS"
   ]
  },
  {
   "cell_type": "code",
   "execution_count": 62,
   "id": "476a76b1",
   "metadata": {},
   "outputs": [
    {
     "name": "stdout",
     "output_type": "stream",
     "text": [
      "Sorting1234\n",
      "ginortS1324\n"
     ]
    }
   ],
   "source": [
    "# Enter your code here. Read input from STDIN. Print output to STDOUT\n",
    "\n",
    "S = str(input())\n",
    "\n",
    "if S.isalnum == False:\n",
    "    print('')\n",
    "elif (len(S)<=0) or (len(S)>=1000):\n",
    "    print('')\n",
    "else:\n",
    "    list_lower = []\n",
    "    list_upper = []\n",
    "    list_odd = []\n",
    "    list_even = []\n",
    "    \n",
    "    for elem in S:\n",
    "        if elem.islower() == True:\n",
    "            list_lower.append(elem)\n",
    "        elif elem.isupper() == True:\n",
    "            list_upper.append(elem)\n",
    "        elif elem.isdigit() == True:\n",
    "            if int(elem)%2 == 0:\n",
    "                list_even.append(elem)\n",
    "            else:\n",
    "                list_odd.append(elem)\n",
    "    \n",
    "    list_lower.sort()\n",
    "    list_upper.sort()\n",
    "    list_odd.sort()\n",
    "    list_even.sort()\n",
    "    \n",
    "    new_string = ''\n",
    "    for i in list_lower:\n",
    "        new_string += i\n",
    "    for j in list_upper:\n",
    "        new_string += j\n",
    "    for k in list_odd:\n",
    "        new_string += k\n",
    "    for z in list_even:\n",
    "        new_string += z\n",
    "        \n",
    "    print(new_string)"
   ]
  },
  {
   "cell_type": "markdown",
   "id": "5667a53e",
   "metadata": {},
   "source": [
    "# Python Functionals (only 1 - max points: 20)\n",
    "https://www.hackerrank.com/challenges/map-and-lambda-expression"
   ]
  },
  {
   "cell_type": "markdown",
   "id": "121e3761",
   "metadata": {},
   "source": [
    "##### Map and Lambda Function"
   ]
  },
  {
   "cell_type": "code",
   "execution_count": 64,
   "id": "18d52d2e",
   "metadata": {},
   "outputs": [
    {
     "name": "stdout",
     "output_type": "stream",
     "text": [
      "5\n",
      "[0, 1, 1, 8, 27]\n"
     ]
    }
   ],
   "source": [
    "# complete the lambda function \n",
    "cube = lambda x: x**3\n",
    "\n",
    "\n",
    "def fibonacci(n):\n",
    "    # return a list of fibonacci numbers\n",
    "    if (n<0) or (n>15):\n",
    "        print('')\n",
    "    else:\n",
    "        if n==0:\n",
    "            fibonacci_numbers = []\n",
    "        elif n==1:\n",
    "            fibonacci_numbers = [0]\n",
    "        elif n==2:\n",
    "            fibonacci_numbers = [0,1]\n",
    "        else:\n",
    "            fibonacci_numbers = [0,1]\n",
    "            for i in range(2,n):\n",
    "                new_number = fibonacci_numbers[i-1] + fibonacci_numbers[i-2]\n",
    "                fibonacci_numbers.append(new_number)\n",
    "        \n",
    "        return fibonacci_numbers\n",
    "    \n",
    "    \n",
    "    \n",
    "\n",
    "if __name__ == '__main__':\n",
    "    n = int(input())\n",
    "    print(list(map(cube, fibonacci(n))))"
   ]
  },
  {
   "cell_type": "markdown",
   "id": "ada604df",
   "metadata": {},
   "source": [
    "# Regex and Parsing challenges (all – total: 17 - max points: 560)\n",
    "https://www.hackerrank.com/domains/python/py-regex"
   ]
  },
  {
   "cell_type": "markdown",
   "id": "288b6f21",
   "metadata": {},
   "source": [
    "##### Detect Floating Point Number"
   ]
  },
  {
   "cell_type": "code",
   "execution_count": 234,
   "id": "dfeee156",
   "metadata": {},
   "outputs": [
    {
     "name": "stdout",
     "output_type": "stream",
     "text": [
      "4\n",
      "4.0O0\n",
      "-1.00 \n",
      "+4.54\n",
      "SomeRandomStuff\n",
      "False\n",
      "True\n",
      "True\n",
      "False\n"
     ]
    }
   ],
   "source": [
    "# Enter your code here. Read input from STDIN. Print output to STDOUT\n",
    "\n",
    "# number of test cases\n",
    "T = int(input())\n",
    "\n",
    "if (T<=0) or (T>=10):\n",
    "    print(\"\")\n",
    "else:\n",
    "    numbers = []\n",
    "    for i in range(T):\n",
    "        numbers.append(list(map(str,input().split()))[0])\n",
    "    \n",
    "    for n in numbers:\n",
    "        try:\n",
    "            float(n)\n",
    "        except:\n",
    "            print(\"False\")\n",
    "            continue\n",
    "            \n",
    "        if '.' not in n:\n",
    "            print('False')\n",
    "        elif ('-' in n) and ('+' in n):\n",
    "            print('False')\n",
    "        elif (n.count('-')>1) or (n.count('+')>1) or (n.count('.')>1):\n",
    "            print('False')\n",
    "        elif n[-1] == '.':\n",
    "            print('False')\n",
    "        else:\n",
    "            print(\"True\")\n",
    "    "
   ]
  },
  {
   "cell_type": "markdown",
   "id": "6220e476",
   "metadata": {},
   "source": [
    "##### Re.split()"
   ]
  },
  {
   "cell_type": "code",
   "execution_count": 235,
   "id": "ef40d881",
   "metadata": {},
   "outputs": [
    {
     "name": "stdout",
     "output_type": "stream",
     "text": [
      "100,000,000.000\n",
      "100\n",
      "000\n",
      "000\n",
      "000\n"
     ]
    }
   ],
   "source": [
    "regex_pattern = r\"[,.]\"\t# Do not delete 'r'.\n",
    "\n",
    "import re\n",
    "print(\"\\n\".join(re.split(regex_pattern, input())))"
   ]
  },
  {
   "cell_type": "markdown",
   "id": "39ab371e",
   "metadata": {},
   "source": [
    "##### Group(), Groups() & Groupdict()"
   ]
  },
  {
   "cell_type": "code",
   "execution_count": 236,
   "id": "d68b1305",
   "metadata": {},
   "outputs": [
    {
     "name": "stdout",
     "output_type": "stream",
     "text": [
      "..12345678910111213141516171820212223\n",
      "1\n"
     ]
    }
   ],
   "source": [
    "# Enter your code here. Read input from STDIN. Print output to STDOUT\n",
    "\n",
    "import re\n",
    "\n",
    "S = str(input())\n",
    "\n",
    "if (len(S)<=0) or (len(S)>=100):\n",
    "    print('')\n",
    "else:\n",
    "    # first check if there are no repeating characters\n",
    "    if len(set(S)) == len(S):\n",
    "         print(-1)\n",
    "    else:\n",
    "        #not_alphanum = 0\n",
    "        for i in range(len(S)-1):\n",
    "            if S[i].isalnum() == True:\n",
    "                if S[i] == S[i+1]:\n",
    "                    print(S[i])\n",
    "                    break\n",
    "            if (i == len(S)-2):\n",
    "                print(-1)\n",
    "   "
   ]
  },
  {
   "cell_type": "markdown",
   "id": "686e97e2",
   "metadata": {},
   "source": [
    "##### Re.findall() & Re.finditer()"
   ]
  },
  {
   "cell_type": "code",
   "execution_count": 244,
   "id": "1464d2c4",
   "metadata": {},
   "outputs": [
    {
     "name": "stdout",
     "output_type": "stream",
     "text": [
      "rabcdeefgyYhFjkIoomnpOeorteeeeet\n",
      "ee\n",
      "Ioo\n",
      "Oeo\n",
      "eeeee\n"
     ]
    }
   ],
   "source": [
    "# Enter your code here. Read input from STDIN. Print output to STDOUT\n",
    "\n",
    "# ?<= lookbehind\n",
    "# ?= lookahead\n",
    "#([AEIOUaeiou]{2,}) find 2 or more vowels\n",
    "\n",
    "import re\n",
    "S = str(input())\n",
    "\n",
    "if (len(S)<=0) or (len(S)>=100):\n",
    "    print('')\n",
    "else:\n",
    "    S.strip()\n",
    "    found_pattern = re.finditer(r'(?<=[QWRTYPSDFGHJKLZXCVBNMqwrtypsdfghjklzxcvbnm])([AEIOUaeiou]{2,})(?=[QWRTYPSDFGHJKLZXCVBNMqwrtypsdfghjklzxcvbnm])', S)\n",
    "    \n",
    "    groups_vowels = []\n",
    "    for i in map(lambda x: x.group(), found_pattern):\n",
    "        groups_vowels.append(i)\n",
    "    \n",
    "    if groups_vowels == []:\n",
    "            print(-1)\n",
    "    else:\n",
    "        for p in groups_vowels:\n",
    "            print(p)\n",
    "    "
   ]
  },
  {
   "cell_type": "markdown",
   "id": "1796b11c",
   "metadata": {},
   "source": [
    "##### Re.start() & Re.end()"
   ]
  },
  {
   "cell_type": "code",
   "execution_count": 239,
   "id": "ea0a6e88",
   "metadata": {},
   "outputs": [
    {
     "name": "stdout",
     "output_type": "stream",
     "text": [
      "aaadaa\n",
      "aa\n",
      "(0, 1)\n",
      "(1, 2)\n",
      "(4, 5)\n"
     ]
    }
   ],
   "source": [
    "# Enter your code here. Read input from STDIN. Print output to STDOUT\n",
    "\n",
    "import re\n",
    "\n",
    "S = str(input())\n",
    "k = str(input())\n",
    "\n",
    "if (len(S)<=0) or (len(S)>=100):\n",
    "    print(\"\")\n",
    "elif (len(k)<=0) or (len(k)>=len(S)):\n",
    "    print(\"\")\n",
    "elif k not in S:\n",
    "    print(\"(-1, -1)\")\n",
    "else:\n",
    "    for m in re.finditer(rf\"(?={k})\", S):\n",
    "        print(\"(\" + str(m.start()) + \", \" + str(m.end()+len(k)-1) + \")\")\n"
   ]
  },
  {
   "cell_type": "markdown",
   "id": "152df2a6",
   "metadata": {},
   "source": [
    "##### Regex Substitution"
   ]
  },
  {
   "cell_type": "code",
   "execution_count": 247,
   "id": "daac81b1",
   "metadata": {},
   "outputs": [
    {
     "name": "stdout",
     "output_type": "stream",
     "text": [
      "1\n",
      "n && && && && && &&n\n",
      "n and and and and and &&n\n"
     ]
    }
   ],
   "source": [
    "# Enter your code here. Read input from STDIN. Print output to STDOUT\n",
    "\n",
    "import re\n",
    "\n",
    "N = int(input())\n",
    "if (N<=0) or (N>=100):\n",
    "    print('')\n",
    "else:\n",
    "    text = [input() for _ in range(N)]\n",
    "    \n",
    "    assert all((t[0:2] != '&&') and (t[0:2] != '||') for t in text)\n",
    "    assert all((t[-2:] != '&&') and (t[-2:] != '||') for t in text)\n",
    "    \n",
    "    \n",
    "    for t in text:\n",
    "        t2 = re.sub(r\"(?<= )&&(?= )\", 'and', t)\n",
    "        t3 = re.sub(r\"(?<= )(\\|\\|)(?= )\", \"or\", t2)\n",
    "        print(t3)\n"
   ]
  },
  {
   "cell_type": "markdown",
   "id": "cc8679c6",
   "metadata": {},
   "source": [
    "##### Validating Roman Numerals"
   ]
  },
  {
   "cell_type": "code",
   "execution_count": 237,
   "id": "d92d3cfa",
   "metadata": {},
   "outputs": [
    {
     "name": "stdout",
     "output_type": "stream",
     "text": [
      "CDXXI\n",
      "True\n"
     ]
    }
   ],
   "source": [
    "# The symbols are I, V, X, L, C, D, and M, standing respectively for 1, 5, 10, 50, 100, 500, and 1,000 \n",
    "\n",
    "# 1000-3000\n",
    "thousands = \"M{0,3}\"\n",
    "\n",
    "# 100-300, 400, 500-800, 900\n",
    "hundreds = \"(D?C{0,3}|C[DM])\"\n",
    "\n",
    "# 10-30, 40, 50-80, 90\n",
    "tens = \"(L?X{0,3}|X[LC])\"\n",
    "\n",
    "# 1-3, 4 , 5-8, 9\n",
    "units = \"(V?I{0,3}|I[VX])\"\n",
    "\n",
    "regex_pattern = r\"%s%s%s%s$\" % (thousands,hundreds,tens,units) # Do not delete 'r'.\n",
    "\n",
    "\n",
    "import re\n",
    "print(str(bool(re.match(regex_pattern, input()))))"
   ]
  },
  {
   "cell_type": "markdown",
   "id": "56f7f17e",
   "metadata": {},
   "source": [
    "##### Validating phone numbers"
   ]
  },
  {
   "cell_type": "code",
   "execution_count": 238,
   "id": "6c6a7c5e",
   "metadata": {},
   "outputs": [
    {
     "name": "stdout",
     "output_type": "stream",
     "text": [
      "2\n",
      "9587456281\n",
      "1252478965\n",
      "YES\n",
      "NO\n"
     ]
    }
   ],
   "source": [
    "# Enter your code here. Read input from STDIN. Print output to STDOUT\n",
    "\n",
    "# A valid mobile number is a ten digit number starting with a 7,8, or 9\n",
    "\n",
    "# number of phone numbers\n",
    "N = int(input())\n",
    "\n",
    "if (N<1) or (N>10):\n",
    "    print('')\n",
    "else:\n",
    "    phone_num = [str(input()) for _ in range(N)]\n",
    "    \n",
    "    assert all((len(p)>=2) or (len(p)<=15) for p in phone_num)\n",
    "    \n",
    "    for pn in phone_num:\n",
    "        try:\n",
    "            int(pn)\n",
    "        except:\n",
    "            print(\"NO\") \n",
    "            continue\n",
    "        \n",
    "        if len(pn) == 10:\n",
    "            if pn[0] in [\"7\",\"8\",\"9\"]:\n",
    "                print(\"YES\")\n",
    "            else:\n",
    "                print(\"NO\")\n",
    "        else:\n",
    "            print(\"NO\")\n"
   ]
  },
  {
   "cell_type": "markdown",
   "id": "1b221954",
   "metadata": {},
   "source": [
    "##### Validating and Parsing Email Addresses"
   ]
  },
  {
   "cell_type": "code",
   "execution_count": 245,
   "id": "f59cf35e",
   "metadata": {},
   "outputs": [
    {
     "name": "stdout",
     "output_type": "stream",
     "text": [
      "2\n",
      "DEXTER <dexter@hotmail.com>\n",
      "VIRUS <virus!@variable.:p>\n",
      "DEXTER <dexter@hotmail.com>\n"
     ]
    }
   ],
   "source": [
    "# Enter your code here. Read input from STDIN. Print output to STDOUT\n",
    "\n",
    "# ? matches either once or zero times\n",
    "\n",
    "# * matches zero or more times the group that precedes the star\n",
    "\n",
    "# + matches one or more times the group that precedes the star\n",
    "\n",
    "# \\w matches any alphanumeric character. If the regex pattern is expressed in bytes, this is equivalent to the class [a-zA-Z0-9_]. \n",
    "\n",
    "\n",
    "import re\n",
    "import email.utils\n",
    "\n",
    "# number of emails\n",
    "n = int(input())\n",
    "\n",
    "if (n<=0) or (n>=100):\n",
    "    print('')\n",
    "else:\n",
    "    name_email = [input().split() for _ in range(n)]\n",
    "     \n",
    "    reg_pattern = r'<[a-zA-Z][\\w\\-\\.\\_]+\\@[a-zA-Z]+\\.[a-zA-Z]{1,3}>' \n",
    "\n",
    "    \n",
    "    for i in name_email:\n",
    "        if bool(re.match(reg_pattern, i[1])) == True:\n",
    "            print(i[0], i[1])     \n",
    "    "
   ]
  },
  {
   "cell_type": "markdown",
   "id": "9e594d99",
   "metadata": {},
   "source": [
    "##### Hex Color Code"
   ]
  },
  {
   "cell_type": "markdown",
   "id": "bd25948d",
   "metadata": {},
   "source": [
    "The \"reg_pat_1 = \"\\{[^\\{\\}]+\\}\"\" that I have used I saw on the Discussion section"
   ]
  },
  {
   "cell_type": "code",
   "execution_count": 261,
   "id": "9bdb1c9c",
   "metadata": {},
   "outputs": [
    {
     "name": "stdout",
     "output_type": "stream",
     "text": [
      "6\n",
      "#BED\n",
      "{\n",
      "color: #FfFdF8; background-color:#aef;     \n",
      "font-size: 123px;     \n",
      "background: -webkit-linear-gradient(top, #f9f9f9, #fff); }\n",
      "}\n",
      "#FfFdF8\n",
      "#aef\n",
      "#f9f9f9\n",
      "#fff\n"
     ]
    }
   ],
   "source": [
    "# Enter your code here. Read input from STDIN. Print output to STDOUT\n",
    "import re\n",
    "\n",
    "N = int(input())\n",
    "\n",
    "if (N<=0) or (N>=50):\n",
    "    print('')\n",
    "else:\n",
    "    text = [input() for _ in range(N)]\n",
    "    new_str_1 = \"\".join(text)\n",
    "    \n",
    "    reg_pat_1 = \"\\{[^\\{\\}]+\\}\"\n",
    "    \n",
    "    new_str_2 = re.findall(reg_pat_1,new_str_1)\n",
    "    \n",
    "    reg_pat_2 = r\"\\#([0-9A-Fa-f]{3}|[0-9A-Fa-f]{6})\\b\"\n",
    "    \n",
    "    for n in new_str_2:\n",
    "        if len(n) != 0:\n",
    "            found_pattern = re.findall(reg_pat_2, n)\n",
    "            for f in range(len(found_pattern)):\n",
    "                print(f'#{found_pattern[f]}')\n"
   ]
  },
  {
   "cell_type": "markdown",
   "id": "c6551efd",
   "metadata": {},
   "source": [
    "##### HTML Parser - Part 1"
   ]
  },
  {
   "cell_type": "code",
   "execution_count": 250,
   "id": "eebe9669",
   "metadata": {},
   "outputs": [
    {
     "name": "stdout",
     "output_type": "stream",
     "text": [
      "2\n",
      "<html><head><title>HTML Parser - I</title></head>\n",
      "<body data-modal-target class='1'><h1>HackerRank</h1><br /></body></html>\n",
      "Start : html\n",
      "Start : head\n",
      "Start : title\n",
      "End   : title\n",
      "End   : head\n",
      "Start : body\n",
      "-> data-modal-target > None\n",
      "-> class > 1\n",
      "Start : h1\n",
      "End   : h1\n",
      "Empty : br\n",
      "End   : body\n",
      "End   : html\n"
     ]
    }
   ],
   "source": [
    "# Enter your code here. Read input from STDIN. Print output to STDOUT\n",
    "from html.parser import HTMLParser\n",
    "\n",
    "class MyHTMLParser(HTMLParser):\n",
    "    def handle_starttag(self, tag, attrs):\n",
    "        print(\"Start :\", tag)\n",
    "        for name,value in attrs:\n",
    "            print(f\"-> {name} > {value}\")\n",
    "\n",
    "    def handle_endtag(self, tag):\n",
    "        print(\"End   :\", tag)\n",
    "        \n",
    "    def handle_startendtag(self, tag, attrs):\n",
    "        print(\"Empty :\", tag)\n",
    "        for name,value in attrs:\n",
    "            print(f\"-> {name} > {value}\")\n",
    "            \n",
    "\n",
    "parser = MyHTMLParser()\n",
    "            \n",
    "N = int(input())\n",
    "\n",
    "if (N<=0) or (N>=100):\n",
    "    print('')\n",
    "else:\n",
    "    html_code = [input() for _ in range(N)]\n",
    "    \n",
    "    for h in html_code:\n",
    "        parser.feed(h)\n"
   ]
  },
  {
   "cell_type": "markdown",
   "id": "a641c552",
   "metadata": {},
   "source": [
    "##### HTML Parser - Part 2"
   ]
  },
  {
   "cell_type": "code",
   "execution_count": 251,
   "id": "6ef82f7b",
   "metadata": {},
   "outputs": [
    {
     "name": "stdout",
     "output_type": "stream",
     "text": [
      "4\n",
      "<!--[if IE 9]>IE9-specific content\n",
      "<![endif]-->\n",
      "<div> Welcome to HackerRank</div>\n",
      "<!--[if IE 9]>IE9-specific content<![endif]-->\n",
      ">>> Multi-line Comment\n",
      "[if IE 9]>IE9-specific content\n",
      "<![endif]\n",
      ">>> Data\n",
      " Welcome to HackerRank\n",
      ">>> Single-line Comment\n",
      "[if IE 9]>IE9-specific content<![endif]\n"
     ]
    }
   ],
   "source": [
    "from html.parser import HTMLParser\n",
    "import re\n",
    "\n",
    "class MyHTMLParser(HTMLParser):\n",
    "    def handle_comment(self, data):\n",
    "        if re.search(r\"\\n\", data):\n",
    "            print(\">>> Multi-line Comment\")\n",
    "            print(data)\n",
    "        else:\n",
    "            print(\">>> Single-line Comment\")\n",
    "            print(data)\n",
    "            \n",
    "    def handle_data(self, data):\n",
    "        if data != '\\n':\n",
    "            print(\">>> Data\")\n",
    "            print(data)  \n",
    "    \n",
    "  \n",
    "  \n",
    "html = \"\"       \n",
    "for i in range(int(input())):\n",
    "    html += input().rstrip()\n",
    "    html += '\\n'\n",
    "    \n",
    "parser = MyHTMLParser()\n",
    "parser.feed(html)\n",
    "parser.close()\n"
   ]
  },
  {
   "cell_type": "markdown",
   "id": "b016a94a",
   "metadata": {},
   "source": [
    "##### Detect HTML Tags, Attributes and Attribute Values"
   ]
  },
  {
   "cell_type": "code",
   "execution_count": 252,
   "id": "e42a1b65",
   "metadata": {},
   "outputs": [
    {
     "name": "stdout",
     "output_type": "stream",
     "text": [
      "9\n",
      "<head> \n",
      "<title>HTML</title> \n",
      "</head>\n",
      "<object type=\"application/x-flash\" \n",
      "  data=\"your-file.swf\" \n",
      "  width=\"0\" height=\"0\">\n",
      "  <!-- <param name=\"movie\" value=\"your-file.swf\" /> -->\n",
      "  <param name=\"quality\" value=\"high\"/>\n",
      "</object>\n",
      "head\n",
      "title\n",
      "object\n",
      "-> type > application/x-flash\n",
      "-> data > your-file.swf\n",
      "-> width > 0\n",
      "-> height > 0\n",
      "param\n",
      "-> name > quality\n",
      "-> value > high\n"
     ]
    }
   ],
   "source": [
    "# Enter your code here. Read input from STDIN. Print output to STDOUT\n",
    "\n",
    "from html.parser import HTMLParser\n",
    "import re\n",
    "\n",
    "class MyHTMLParser(HTMLParser):\n",
    "    def handle_starttag(self, tag, attrs):\n",
    "        print(tag)\n",
    "        for name,value in attrs:\n",
    "            print(f\"-> {name} > {value}\")\n",
    "        \n",
    "    def handle_startendtag(self, tag, attrs):\n",
    "        print(tag)\n",
    "        for name,value in attrs:\n",
    "            print(f\"-> {name} > {value}\")\n",
    "    \n",
    "  \n",
    "  \n",
    "html = \"\"       \n",
    "for i in range(int(input())):\n",
    "    html += input().rstrip()\n",
    "    html += '\\n'\n",
    "    \n",
    "parser = MyHTMLParser()\n",
    "parser.feed(html)\n",
    "parser.close()"
   ]
  },
  {
   "cell_type": "markdown",
   "id": "680b1ffb",
   "metadata": {},
   "source": [
    "##### Validating UID"
   ]
  },
  {
   "cell_type": "code",
   "execution_count": 253,
   "id": "389c757b",
   "metadata": {},
   "outputs": [
    {
     "name": "stdout",
     "output_type": "stream",
     "text": [
      "2\n",
      "B1CD102354\n",
      "B1CDEF2354\n",
      "Invalid\n",
      "Valid\n"
     ]
    }
   ],
   "source": [
    "# Enter your code here. Read input from STDIN. Print output to STDOUT\n",
    "\n",
    "T = int(input())\n",
    "\n",
    "ID_list = [input() for _ in range(T)]\n",
    "\n",
    "for ID in ID_list:\n",
    "    if len(ID) != 10:\n",
    "        print('Invalid')\n",
    "    elif len(set(ID)) != 10:\n",
    "        print('Invalid')\n",
    "    elif ID.isalnum() == False:\n",
    "        print('Invalid')\n",
    "    else:\n",
    "        num_upper = 0\n",
    "        num_digits = 0\n",
    "        for i in range(len(ID)):\n",
    "            if ID[i].isupper():\n",
    "                num_upper += 1\n",
    "            if ID[i].isnumeric():\n",
    "                num_digits += 1\n",
    "        \n",
    "        if (num_upper >= 2) and (num_digits >= 3):\n",
    "            print('Valid')\n",
    "        else:\n",
    "            print('Invalid')\n",
    "        "
   ]
  },
  {
   "cell_type": "markdown",
   "id": "a5b5fcb4",
   "metadata": {},
   "source": [
    "##### Validating Credit Card Numbers"
   ]
  },
  {
   "cell_type": "code",
   "execution_count": 255,
   "id": "20a26b74",
   "metadata": {},
   "outputs": [
    {
     "name": "stdout",
     "output_type": "stream",
     "text": [
      "6\n",
      "4123456789123456 \n",
      "5123-4567-8912-3456 \n",
      "61234-567-8912-3456 \n",
      "4123356789123456 \n",
      "5133-3367-8912-3456 \n",
      "5123 - 3567 - 8912 - 3456\n",
      "Valid\n",
      "Valid\n",
      "Invalid\n",
      "Valid\n",
      "Invalid\n",
      "Invalid\n"
     ]
    }
   ],
   "source": [
    "# Enter your code here. Read input from STDIN. Print output to STDOUT\n",
    "import re\n",
    "\n",
    "N = int(input())\n",
    "\n",
    "if (N<=0) or (N>=100):\n",
    "    print('')\n",
    "else:\n",
    "    card_numbers = [input().strip() for _ in range(N)]\n",
    "    \n",
    "    reg_pat_1 = r'^[456]([0-9]{15}\\b)'\n",
    "    \n",
    "    reg_pat_2 = r'^[456]([0-9]{3})\\-([0-9]{4})\\-([0-9]{4})\\-([0-9]{4})'\n",
    "    \n",
    "    reg_pat_3 = r\"([0-9])(-?\\1){3}\"\n",
    "    \n",
    "    for c in card_numbers:\n",
    "        if bool(re.fullmatch(reg_pat_1,c)):\n",
    "            if bool(re.search(reg_pat_3, c)):\n",
    "                print('Invalid')\n",
    "            else:\n",
    "                print('Valid')\n",
    "        elif bool(re.fullmatch(reg_pat_2,c)):\n",
    "            if bool(re.search(reg_pat_3, c)):\n",
    "                print('Invalid')\n",
    "            else:\n",
    "                print('Valid')\n",
    "        else:\n",
    "            print('Invalid')        \n"
   ]
  },
  {
   "cell_type": "markdown",
   "id": "1f50c78b",
   "metadata": {},
   "source": [
    "##### Validating Postal Codes"
   ]
  },
  {
   "cell_type": "code",
   "execution_count": 265,
   "id": "79266993",
   "metadata": {},
   "outputs": [
    {
     "name": "stdout",
     "output_type": "stream",
     "text": [
      "110000\n",
      "False\n"
     ]
    }
   ],
   "source": [
    "regex_integer_in_range = r\"(\\b[1-9][0-9][0-9][0-9][0-9][0-9]\\b)\" # Do not delete 'r'.\n",
    "\n",
    "regex_alternating_repetitive_digit_pair = r\"(\\d)(?=\\d\\1)\"\t# Do not delete 'r'.\n",
    "\n",
    "\n",
    "\n",
    "import re\n",
    "P = input()\n",
    "\n",
    "print (bool(re.match(regex_integer_in_range, P)) \n",
    "and len(re.findall(regex_alternating_repetitive_digit_pair, P)) < 2)"
   ]
  },
  {
   "cell_type": "markdown",
   "id": "177763fb",
   "metadata": {},
   "source": [
    "##### Matrix Script"
   ]
  },
  {
   "cell_type": "code",
   "execution_count": 257,
   "id": "e1ee34db",
   "metadata": {},
   "outputs": [
    {
     "name": "stdout",
     "output_type": "stream",
     "text": [
      "7 3 \n",
      "Tsi\n",
      "h%x\n",
      "i #\n",
      "sM \n",
      "$a \n",
      "#t%\n",
      "ir!\n",
      "This is Matrix#  %!\n"
     ]
    }
   ],
   "source": [
    "#!/bin/python3\n",
    "\n",
    "import math\n",
    "import os\n",
    "import random\n",
    "import re\n",
    "import sys\n",
    "\n",
    "\n",
    "\n",
    "\n",
    "first_multiple_input = input().rstrip().split()\n",
    "\n",
    "n = int(first_multiple_input[0])\n",
    "\n",
    "m = int(first_multiple_input[1])\n",
    "\n",
    "matrix = []\n",
    "\n",
    "for _ in range(n):\n",
    "    matrix_item = input()\n",
    "    matrix.append(matrix_item)\n",
    "\n",
    "string = ''\n",
    "for j in range(m):\n",
    "    for i in range(n):\n",
    "        string += matrix[i][j]\n",
    "        \n",
    "reg_pattern = r\"(?<=\\w)[!@#$%& ]{1,}(?=\\s*\\w)\"        \n",
    "new_str = re.sub(reg_pattern, ' ', string)\n",
    "print(new_str)"
   ]
  },
  {
   "cell_type": "markdown",
   "id": "33c0d0ae",
   "metadata": {},
   "source": [
    "# XML (all – total: 2 - max points: 40)\n",
    "https://www.hackerrank.com/domains/python/xml\n"
   ]
  },
  {
   "cell_type": "markdown",
   "id": "9a8cf2d4",
   "metadata": {},
   "source": [
    "##### XML 1 - Find the Score"
   ]
  },
  {
   "cell_type": "code",
   "execution_count": null,
   "id": "08b6d670",
   "metadata": {},
   "outputs": [],
   "source": [
    "import sys\n",
    "import xml.etree.ElementTree as etree\n",
    "\n",
    "def get_attr_number(node):\n",
    "    # your code goes here\n",
    "    total = len(node.attrib)\n",
    "    \n",
    "    for child in node:\n",
    "        total += get_attr_number(child)\n",
    "    \n",
    "    return total\n",
    "\n",
    "\n",
    "if __name__ == '__main__':\n",
    "    sys.stdin.readline()\n",
    "    xml = sys.stdin.read()\n",
    "    tree = etree.ElementTree(etree.fromstring(xml))\n",
    "    root = tree.getroot()\n",
    "    print(get_attr_number(root))"
   ]
  },
  {
   "cell_type": "markdown",
   "id": "08960cad",
   "metadata": {},
   "source": [
    "##### XML2 - Find the Maximum Depth"
   ]
  },
  {
   "cell_type": "code",
   "execution_count": null,
   "id": "2e0bc86a",
   "metadata": {},
   "outputs": [],
   "source": [
    "import xml.etree.ElementTree as etree\n",
    "\n",
    "maxdepth = 0\n",
    "def depth(elem, level):\n",
    "    global maxdepth\n",
    "    \n",
    "    level += 1\n",
    "    \n",
    "    for child in elem:\n",
    "        depth_child = depth(child,level)\n",
    "        if depth_child > maxdepth:\n",
    "            maxdepth = depth_child\n",
    "        \n",
    "    return level\n",
    "\n",
    "if __name__ == '__main__':\n",
    "    n = int(input())\n",
    "    xml = \"\"\n",
    "    for i in range(n):\n",
    "        xml =  xml + input() + \"\\n\"\n",
    "    tree = etree.ElementTree(etree.fromstring(xml))\n",
    "    depth(tree.getroot(), -1)\n",
    "    print(maxdepth)"
   ]
  },
  {
   "cell_type": "markdown",
   "id": "df42075f",
   "metadata": {},
   "source": [
    "# Closures and Decorations (all – total: 2 - max points: 60)\n",
    "https://www.hackerrank.com/domains/python/closures-and-decorators"
   ]
  },
  {
   "cell_type": "markdown",
   "id": "bef82920",
   "metadata": {},
   "source": [
    "##### Standardize Mobile Number Using Decorators"
   ]
  },
  {
   "cell_type": "code",
   "execution_count": 3,
   "id": "911cc476",
   "metadata": {},
   "outputs": [
    {
     "name": "stdout",
     "output_type": "stream",
     "text": [
      "3\n",
      "07895462130\n",
      "919875641230\n",
      "9195969878\n",
      "+91 78954 62130\n",
      "+91 91959 69878\n",
      "+91 98756 41230\n"
     ]
    }
   ],
   "source": [
    "def wrapper(f):\n",
    "    def fun(l):\n",
    "        # complete the function\n",
    "        new_list = []\n",
    "        \n",
    "        for i in l:\n",
    "            if len(i) == 10:\n",
    "                phone = '+91 ' + i[:5] + ' ' + i[5:]\n",
    "                new_list.append(phone)\n",
    "            elif len(i) == 11:\n",
    "                phone = '+91 ' + i[1:6] + ' ' + i[6:]\n",
    "                new_list.append(phone)\n",
    "            elif len(i) == 12:\n",
    "                phone = '+91 ' + i[2:7] + ' ' + i[7:]\n",
    "                new_list.append(phone)\n",
    "            elif len(i) == 13:\n",
    "                phone = '+91 ' + i[3:8] + ' ' + i[8:]\n",
    "                new_list.append(phone)\n",
    "        \n",
    "        f(new_list)\n",
    "                \n",
    "    return fun\n",
    "\n",
    "\n",
    "@wrapper\n",
    "def sort_phone(l):\n",
    "    print(*sorted(l), sep='\\n')\n",
    "\n",
    "if __name__ == '__main__':\n",
    "    l = [input() for _ in range(int(input()))]\n",
    "    sort_phone(l) "
   ]
  },
  {
   "cell_type": "markdown",
   "id": "9de60b8d",
   "metadata": {},
   "source": [
    "##### Decorators 2 - Name Directory"
   ]
  },
  {
   "cell_type": "code",
   "execution_count": 132,
   "id": "1fba6013",
   "metadata": {},
   "outputs": [
    {
     "name": "stdout",
     "output_type": "stream",
     "text": [
      "3\n",
      "Mike Thomson 20 M\n",
      "Robert Bustle 32 M\n",
      "Andria Bustle 30 F\n",
      "Mr. Mike Thomson\n",
      "Ms. Andria Bustle\n",
      "Mr. Robert Bustle\n"
     ]
    }
   ],
   "source": [
    "import operator\n",
    "\n",
    "def person_lister(f):\n",
    "    def inner(people):\n",
    "        # complete the function\n",
    "        if len(people)>10:\n",
    "            return(\"\")\n",
    "        else:\n",
    "            for i in people:\n",
    "                i[2] = int(i[2])\n",
    "            people.sort(key = lambda x: x[2])\n",
    "            \n",
    "            new_list = []\n",
    "            for i in people:\n",
    "                name = f(i)\n",
    "                new_list.append(name)\n",
    "                \n",
    "            return new_list    \n",
    "        \n",
    "    return inner\n",
    "\n",
    "\n",
    "\n",
    "@person_lister\n",
    "def name_format(person):\n",
    "    return (\"Mr. \" if person[3] == \"M\" else \"Ms. \") + person[0] + \" \" + person[1]\n",
    "\n",
    "if __name__ == '__main__':\n",
    "    people = [input().split() for i in range(int(input()))]\n",
    "    print(*name_format(people), sep='\\n')"
   ]
  },
  {
   "cell_type": "markdown",
   "id": "876cade8",
   "metadata": {},
   "source": [
    "# Numpy (all – total: 15 - max points: 300)\n",
    "https://www.hackerrank.com/domains/python/numpy"
   ]
  },
  {
   "cell_type": "markdown",
   "id": "a91b7260",
   "metadata": {},
   "source": [
    "##### Arrays"
   ]
  },
  {
   "cell_type": "code",
   "execution_count": 14,
   "id": "3649bd28",
   "metadata": {},
   "outputs": [
    {
     "name": "stdout",
     "output_type": "stream",
     "text": [
      "1 2 3 4 -8 -10\n",
      "[-10.  -8.   4.   3.   2.   1.]\n"
     ]
    }
   ],
   "source": [
    "import numpy\n",
    "\n",
    "def arrays(arr):\n",
    "    # complete this function\n",
    "    # use numpy.array\n",
    "    \n",
    "    arr.reverse()\n",
    "    rev_float = numpy.array(arr, float)\n",
    "    return rev_float\n",
    "\n",
    "arr = input().strip().split(' ')\n",
    "result = arrays(arr)\n",
    "print(result)"
   ]
  },
  {
   "cell_type": "markdown",
   "id": "975ef434",
   "metadata": {},
   "source": [
    "##### Shape and Reshape"
   ]
  },
  {
   "cell_type": "code",
   "execution_count": 65,
   "id": "993ae4af",
   "metadata": {},
   "outputs": [
    {
     "name": "stdout",
     "output_type": "stream",
     "text": [
      "1 2 3 4 5 6 7 8 9\n",
      "[[1 2 3]\n",
      " [4 5 6]\n",
      " [7 8 9]]\n"
     ]
    }
   ],
   "source": [
    "import numpy\n",
    "\n",
    "list_int = list(map(int, input().split()))\n",
    "\n",
    "new_array = numpy.reshape(list_int,(3,3))\n",
    "print(new_array)"
   ]
  },
  {
   "cell_type": "markdown",
   "id": "5ef77ae2",
   "metadata": {},
   "source": [
    "##### Transpose and Flatten"
   ]
  },
  {
   "cell_type": "code",
   "execution_count": 70,
   "id": "9fc0510c",
   "metadata": {},
   "outputs": [
    {
     "name": "stdout",
     "output_type": "stream",
     "text": [
      "2 2\n",
      "1 2\n",
      "3 4\n",
      "[[1 3]\n",
      " [2 4]]\n",
      "[1 2 3 4]\n"
     ]
    }
   ],
   "source": [
    "import numpy\n",
    "\n",
    "n_m = list(map(int, input().split()))\n",
    "N = n_m[0]\n",
    "M = n_m[1]\n",
    "\n",
    "array = []\n",
    "for _ in range(N):\n",
    "    elem = list(map(int, input().split()))\n",
    "    array.append(elem)\n",
    "    \n",
    "np_arr = numpy.array(array)\n",
    "    \n",
    "print(numpy.transpose(np_arr))\n",
    "print(np_arr.flatten())\n",
    "\n"
   ]
  },
  {
   "cell_type": "markdown",
   "id": "0eb86c63",
   "metadata": {},
   "source": [
    "##### Concatenate"
   ]
  },
  {
   "cell_type": "code",
   "execution_count": 71,
   "id": "b6313af4",
   "metadata": {},
   "outputs": [
    {
     "name": "stdout",
     "output_type": "stream",
     "text": [
      "4 3 2\n",
      "1 2\n",
      "1 2\n",
      "1 2\n",
      "1 2\n",
      "3 4\n",
      "3 4\n",
      "3 4\n",
      "[[1 2]\n",
      " [1 2]\n",
      " [1 2]\n",
      " [1 2]\n",
      " [3 4]\n",
      " [3 4]\n",
      " [3 4]]\n"
     ]
    }
   ],
   "source": [
    "import numpy\n",
    "\n",
    "nmp = list(map(int, input().split()))\n",
    "N = nmp[0]\n",
    "M = nmp[1]\n",
    "P = nmp[2]\n",
    "\n",
    "N_list = numpy.array([])\n",
    "for _ in range(N):\n",
    "    elem = list(map(int, input().split()))\n",
    "    N_list = numpy.append(N_list, numpy.array(elem))\n",
    "\n",
    "M_list = numpy.array([])\n",
    "for _ in range(M):\n",
    "    elem = list(map(int, input().split()))\n",
    "    M_list = numpy.append(M_list, numpy.array(elem))\n",
    "    \n",
    "d1 = N+M\n",
    "new_array = numpy.concatenate((N_list, M_list))\n",
    "new_array = new_array.astype(int)\n",
    "print(numpy.reshape(new_array, (d1,P)))"
   ]
  },
  {
   "cell_type": "markdown",
   "id": "b778857a",
   "metadata": {},
   "source": [
    "##### Zeros and Ones"
   ]
  },
  {
   "cell_type": "code",
   "execution_count": 93,
   "id": "34513f6f",
   "metadata": {},
   "outputs": [
    {
     "name": "stdout",
     "output_type": "stream",
     "text": [
      "3 3 3\n",
      "[[[0 0 0]\n",
      "  [0 0 0]\n",
      "  [0 0 0]]\n",
      "\n",
      " [[0 0 0]\n",
      "  [0 0 0]\n",
      "  [0 0 0]]\n",
      "\n",
      " [[0 0 0]\n",
      "  [0 0 0]\n",
      "  [0 0 0]]]\n",
      "[[[1 1 1]\n",
      "  [1 1 1]\n",
      "  [1 1 1]]\n",
      "\n",
      " [[1 1 1]\n",
      "  [1 1 1]\n",
      "  [1 1 1]]\n",
      "\n",
      " [[1 1 1]\n",
      "  [1 1 1]\n",
      "  [1 1 1]]]\n"
     ]
    }
   ],
   "source": [
    "import numpy\n",
    "\n",
    "integers = list(map(int, input().split()))\n",
    "\n",
    "if (min(integers)<1) or (max(integers)>3):\n",
    "    print('')\n",
    "else:\n",
    "    array_0 = numpy.zeros(integers,int)   \n",
    "    array_1 = numpy.ones(integers,int)   \n",
    "        \n",
    "    print(array_0)\n",
    "    print(array_1)\n"
   ]
  },
  {
   "cell_type": "markdown",
   "id": "f6cbc604",
   "metadata": {},
   "source": [
    "##### Eye and Identity"
   ]
  },
  {
   "cell_type": "code",
   "execution_count": 72,
   "id": "86ef06a0",
   "metadata": {},
   "outputs": [
    {
     "name": "stdout",
     "output_type": "stream",
     "text": [
      "3 3\n",
      "[[ 1.  0.  0.]\n",
      " [ 0.  1.  0.]\n",
      " [ 0.  0.  1.]]\n"
     ]
    }
   ],
   "source": [
    "import numpy\n",
    "numpy.set_printoptions(legacy='1.13')\n",
    "\n",
    "nm = list(map(int, input().split()))\n",
    "N = nm[0] #rows\n",
    "M = nm[1] #cols\n",
    "\n",
    "print(numpy.eye(N, M, k = 0))"
   ]
  },
  {
   "cell_type": "markdown",
   "id": "e5cf0588",
   "metadata": {},
   "source": [
    "##### Array Mathematics"
   ]
  },
  {
   "cell_type": "code",
   "execution_count": 73,
   "id": "a6410655",
   "metadata": {},
   "outputs": [
    {
     "name": "stdout",
     "output_type": "stream",
     "text": [
      "1 4\n",
      "1 2 3 4\n",
      "5 6 7 8\n",
      "[[ 6  8 10 12]]\n",
      "[[-4 -4 -4 -4]]\n",
      "[[ 5 12 21 32]]\n",
      "[[0 0 0 0]]\n",
      "[[1 2 3 4]]\n",
      "[[    1    64  2187 65536]]\n"
     ]
    }
   ],
   "source": [
    "import numpy as np\n",
    "\n",
    "nm = list(map(int, input().split()))\n",
    "N = nm[0]\n",
    "M = nm[1]\n",
    "\n",
    "A = []\n",
    "for i in range(N):\n",
    "    elem = list(map(int, input().split()))\n",
    "    A.append(elem)\n",
    "A = np.array(A)\n",
    "\n",
    "B = []\n",
    "for i in range(N):\n",
    "    elem = list(map(int, input().split()))\n",
    "    B.append(elem)\n",
    "B = np.array(B)\n",
    "\n",
    "if (len(A[0]) != M) or (len(B[0]) != M):\n",
    "    print('')\n",
    "else:\n",
    "    print(A+B)\n",
    "    print(A-B)\n",
    "    print(A*B)\n",
    "    print(np.floor_divide(A,B))\n",
    "    print(A%B)\n",
    "    print(A**B) "
   ]
  },
  {
   "cell_type": "markdown",
   "id": "7613aafe",
   "metadata": {},
   "source": [
    "##### Floor, Ceil and Rint"
   ]
  },
  {
   "cell_type": "code",
   "execution_count": 74,
   "id": "476693d7",
   "metadata": {},
   "outputs": [
    {
     "name": "stdout",
     "output_type": "stream",
     "text": [
      "1.1 2.2 3.3 4.4 5.5 6.6 7.7 8.8 9.9\n",
      "[ 1.  2.  3.  4.  5.  6.  7.  8.  9.]\n",
      "[  2.   3.   4.   5.   6.   7.   8.   9.  10.]\n",
      "[  1.   2.   3.   4.   6.   7.   8.   9.  10.]\n"
     ]
    }
   ],
   "source": [
    "import numpy as np\n",
    "np.set_printoptions(legacy='1.13')\n",
    "\n",
    "\n",
    "A = list(map(float, input().split()))\n",
    "arr = np.array(A)\n",
    "\n",
    "print(np.floor(arr))\n",
    "print(np.ceil(arr))\n",
    "print(np.rint(arr))"
   ]
  },
  {
   "cell_type": "markdown",
   "id": "16dff1c1",
   "metadata": {},
   "source": [
    "##### Sum and Prod"
   ]
  },
  {
   "cell_type": "code",
   "execution_count": 81,
   "id": "74e7d989",
   "metadata": {},
   "outputs": [
    {
     "name": "stdout",
     "output_type": "stream",
     "text": [
      "2 2\n",
      "1 2\n",
      "3 4\n",
      "24\n"
     ]
    }
   ],
   "source": [
    "import numpy as np\n",
    "\n",
    "nm = list(map(int, input().split()))\n",
    "N = nm[0]\n",
    "M = nm[1]\n",
    "\n",
    "if (N==0) or (M==0):\n",
    "    print('')\n",
    "else:\n",
    "    A = []\n",
    "    for i in range(N):\n",
    "        elem = list(map(int, input().split()))\n",
    "        A.append(elem)\n",
    "    A = np.array(A)\n",
    "\n",
    "\n",
    "    len_elem = list(map(len,A))\n",
    "    max_len = max(len_elem)\n",
    "    min_len = min(len_elem)\n",
    "\n",
    "    if (max_len!=M) or (min_len!=M):\n",
    "        print('')\n",
    "    else:\n",
    "        sum_arr_ax0 = np.sum(A, axis=0)\n",
    "\n",
    "        print(np.prod(sum_arr_ax0))"
   ]
  },
  {
   "cell_type": "markdown",
   "id": "c53e4b05",
   "metadata": {},
   "source": [
    "##### Min and Max"
   ]
  },
  {
   "cell_type": "code",
   "execution_count": 82,
   "id": "104b7040",
   "metadata": {},
   "outputs": [
    {
     "name": "stdout",
     "output_type": "stream",
     "text": [
      "4 2\n",
      "2 5\n",
      "3 7\n",
      "1 3\n",
      "4 0\n",
      "3\n"
     ]
    }
   ],
   "source": [
    "import numpy as np\n",
    "\n",
    "nm = list(map(int, input().split()))\n",
    "N = nm[0]\n",
    "M = nm[1]\n",
    "\n",
    "if (N==0) or (M==0):\n",
    "    print('')\n",
    "else:\n",
    "    A = []\n",
    "    for i in range(N):\n",
    "        elem = list(map(int, input().split()))\n",
    "        A.append(elem)\n",
    "    A = np.array(A)\n",
    "    \n",
    "    len_elem = list(map(len,A))\n",
    "    max_len = max(len_elem)\n",
    "    min_len = min(len_elem)\n",
    "\n",
    "    if (max_len!=M) or (min_len!=M):\n",
    "        print('')\n",
    "    else:\n",
    "        min_ax1 = np.min(A, axis=1)\n",
    "        print(np.max(min_ax1))\n",
    "\n"
   ]
  },
  {
   "cell_type": "markdown",
   "id": "82504e3f",
   "metadata": {},
   "source": [
    "##### Mean, Var, and Std"
   ]
  },
  {
   "cell_type": "code",
   "execution_count": 92,
   "id": "d30fd4a6",
   "metadata": {},
   "outputs": [
    {
     "name": "stdout",
     "output_type": "stream",
     "text": [
      "2 2\n",
      "1 2\n",
      "3 4\n",
      "[ 1.5  3.5]\n",
      "[ 1.  1.]\n",
      "1.11803398875\n"
     ]
    }
   ],
   "source": [
    "import numpy as np\n",
    "\n",
    "nm = list(map(int, input().split()))\n",
    "N = nm[0]\n",
    "M = nm[1]\n",
    "\n",
    "if (N==0) or (M==0):\n",
    "    print('')\n",
    "else:\n",
    "    A = []\n",
    "    for i in range(N):\n",
    "        elem = list(map(int, input().split()))\n",
    "        A.append(elem)\n",
    "    A = np.array(A)\n",
    "    \n",
    "    len_elem = list(map(len,A))\n",
    "    max_len = max(len_elem)\n",
    "    min_len = min(len_elem)\n",
    "\n",
    "    if (max_len!=M) or (min_len!=M):\n",
    "        print('')\n",
    "    else:\n",
    "        mean_ax1 = np.mean(A, axis=1)\n",
    "        var_ax0 = np.var(A, axis=0)\n",
    "        std_axN = np.std(A, axis=None)\n",
    "        \n",
    "        print(mean_ax1)\n",
    "        print(var_ax0)\n",
    "        print(round(std_axN,11))"
   ]
  },
  {
   "cell_type": "markdown",
   "id": "776e0160",
   "metadata": {},
   "source": [
    "##### Dot and Cross"
   ]
  },
  {
   "cell_type": "code",
   "execution_count": 87,
   "id": "1fc0a9a7",
   "metadata": {},
   "outputs": [
    {
     "name": "stdout",
     "output_type": "stream",
     "text": [
      "2\n",
      "1 2\n",
      "3 4\n",
      "1 2\n",
      "3 4\n",
      "[[ 7 10]\n",
      " [15 22]]\n"
     ]
    }
   ],
   "source": [
    "import numpy as np\n",
    "\n",
    "N = int(input())\n",
    "\n",
    "if N == 0:\n",
    "    print('')\n",
    "else:\n",
    "    A = []\n",
    "    for i in range(N):\n",
    "        elem = list(map(int, input().split()))\n",
    "        A.append(elem)\n",
    "    A = np.array(A)\n",
    "\n",
    "    B = []\n",
    "    for i in range(N):\n",
    "        elem = list(map(int, input().split()))\n",
    "        B.append(elem)\n",
    "    B = np.array(B)\n",
    "\n",
    "    len_elem_A = list(map(len,A))\n",
    "    max_len_A = max(len_elem_A)\n",
    "    min_len_A = min(len_elem_A)\n",
    "\n",
    "    len_elem_B = list(map(len,B))\n",
    "    max_len_B = max(len_elem_B)\n",
    "    min_len_B = min(len_elem_B)\n",
    "\n",
    "    if (max_len_A!=N) or (min_len_A!=N) or (max_len_B!=N) or (min_len_B!=N):\n",
    "        print('')\n",
    "    else:\n",
    "        print(np.dot(A,B))\n"
   ]
  },
  {
   "cell_type": "markdown",
   "id": "d1cb58d9",
   "metadata": {},
   "source": [
    "##### Inner and Outer"
   ]
  },
  {
   "cell_type": "code",
   "execution_count": 88,
   "id": "d48d5811",
   "metadata": {},
   "outputs": [
    {
     "name": "stdout",
     "output_type": "stream",
     "text": [
      "0 1\n",
      "2 3\n",
      "3\n",
      "[[0 0]\n",
      " [2 3]]\n"
     ]
    }
   ],
   "source": [
    "import numpy as np\n",
    "\n",
    "A = list(map(int, input().split()))\n",
    "B = list(map(int, input().split()))\n",
    "\n",
    "A_arr = np.array(A)\n",
    "B_arr = np.array(B)\n",
    "\n",
    "if (len(A)) != (len(B)):\n",
    "    print('')\n",
    "else:\n",
    "    print(np.inner(A,B))\n",
    "    print(np.outer(A,B))"
   ]
  },
  {
   "cell_type": "markdown",
   "id": "575b8950",
   "metadata": {},
   "source": [
    "##### Polynomials"
   ]
  },
  {
   "cell_type": "code",
   "execution_count": 89,
   "id": "41debe9a",
   "metadata": {},
   "outputs": [
    {
     "name": "stdout",
     "output_type": "stream",
     "text": [
      "1.1 2 3\n",
      "0\n",
      "3.0\n"
     ]
    }
   ],
   "source": [
    "import numpy as np\n",
    "\n",
    "\n",
    "coeff_P = list(map(float, input().split()))\n",
    "x = float(input())\n",
    "\n",
    "print(np.polyval(coeff_P, x))"
   ]
  },
  {
   "cell_type": "markdown",
   "id": "5b46675d",
   "metadata": {},
   "source": [
    "##### Linear Algebra"
   ]
  },
  {
   "cell_type": "code",
   "execution_count": 91,
   "id": "5d4fc58c",
   "metadata": {},
   "outputs": [
    {
     "name": "stdout",
     "output_type": "stream",
     "text": [
      "3\n",
      "1 2 3\n",
      "4 5 6\n",
      "1 2 1\n",
      "6.0\n"
     ]
    }
   ],
   "source": [
    "import numpy as np\n",
    "\n",
    "N = int(input())\n",
    "\n",
    "if N == 0:\n",
    "    print('')\n",
    "else:\n",
    "    A = []\n",
    "    for i in range(N):\n",
    "        elem = list(map(float, input().split()))\n",
    "        A.append(elem)\n",
    "    A = np.array(A)\n",
    "\n",
    "    determinant = np.linalg.det(A)\n",
    "\n",
    "    if determinant%1 == 0:\n",
    "        print(\"{:.1f}\".format(determinant))\n",
    "    else:\n",
    "        print(\"{:.2f}\".format(determinant))"
   ]
  },
  {
   "cell_type": "markdown",
   "id": "37c883af",
   "metadata": {},
   "source": [
    "-------------------------"
   ]
  },
  {
   "cell_type": "markdown",
   "id": "7f4f125e",
   "metadata": {},
   "source": [
    "# Problem 2"
   ]
  },
  {
   "cell_type": "markdown",
   "id": "2e41896c",
   "metadata": {},
   "source": [
    "#### birthday-cake-candles \n",
    "https://www.hackerrank.com/challenges/birthday-cake-candles"
   ]
  },
  {
   "cell_type": "code",
   "execution_count": null,
   "id": "a464fb65",
   "metadata": {},
   "outputs": [],
   "source": [
    "#!/bin/python3\n",
    "\n",
    "import math\n",
    "import os\n",
    "import random\n",
    "import re\n",
    "import sys\n",
    "\n",
    "#\n",
    "# Complete the 'birthdayCakeCandles' function below.\n",
    "#\n",
    "# The function is expected to return an INTEGER.\n",
    "# The function accepts INTEGER_ARRAY candles as parameter.\n",
    "#\n",
    "\n",
    "def birthdayCakeCandles(candles):\n",
    "    # Write your code here\n",
    "   \n",
    "    tallest = max(candles)\n",
    "    num_tallest = candles.count(tallest)\n",
    "            \n",
    "    return num_tallest\n",
    "    \n",
    "\n",
    "if __name__ == '__main__':\n",
    "    fptr = open(os.environ['OUTPUT_PATH'], 'w')\n",
    "\n",
    "    candles_count = int(input().strip())\n",
    "\n",
    "    candles = list(map(int, input().rstrip().split()))\n",
    "\n",
    "    result = birthdayCakeCandles(candles)\n",
    "\n",
    "    fptr.write(str(result) + '\\n')\n",
    "\n",
    "    fptr.close()"
   ]
  },
  {
   "cell_type": "markdown",
   "id": "09217beb",
   "metadata": {},
   "source": [
    "#### kangaroo \n",
    "https://www.hackerrank.com/challenges/kangaroo"
   ]
  },
  {
   "cell_type": "code",
   "execution_count": null,
   "id": "7396183a",
   "metadata": {},
   "outputs": [],
   "source": [
    "#!/bin/python3\n",
    "\n",
    "import math\n",
    "import os\n",
    "import random\n",
    "import re\n",
    "import sys\n",
    "\n",
    "#\n",
    "# Complete the 'kangaroo' function below.\n",
    "#\n",
    "# The function is expected to return a STRING.\n",
    "# The function accepts following parameters:\n",
    "#  1. INTEGER x1\n",
    "#  2. INTEGER v1\n",
    "#  3. INTEGER x2\n",
    "#  4. INTEGER v2\n",
    "#\n",
    "\n",
    "def kangaroo(x1, v1, x2, v2):\n",
    "    # Write your code here\n",
    "    # the first 3 \"is\" are the constraints\n",
    "    if (x1<0) or (x1>=x2) or (x2>10000):\n",
    "        return(\"NO\")\n",
    "    elif (v1<1) or (v1>10000):\n",
    "        return(\"NO\")\n",
    "    elif (v2<1) or (v2>10000):\n",
    "        return(\"NO\")\n",
    "    elif v2>=v1:\n",
    "        return(\"NO\")\n",
    "    else:\n",
    "        while True:\n",
    "            if x1 == x2:\n",
    "                return(\"YES\")\n",
    "            elif x1 > x2:\n",
    "                return(\"NO\")\n",
    "            else:\n",
    "                x1 += v1\n",
    "                x2 += v2\n",
    "      \n",
    "    \n",
    "\n",
    "if __name__ == '__main__':\n",
    "    fptr = open(os.environ['OUTPUT_PATH'], 'w')\n",
    "\n",
    "    first_multiple_input = input().rstrip().split()\n",
    "\n",
    "    x1 = int(first_multiple_input[0])\n",
    "\n",
    "    v1 = int(first_multiple_input[1])\n",
    "\n",
    "    x2 = int(first_multiple_input[2])\n",
    "\n",
    "    v2 = int(first_multiple_input[3])\n",
    "\n",
    "    result = kangaroo(x1, v1, x2, v2)\n",
    "\n",
    "    fptr.write(result + '\\n')\n",
    "\n",
    "    fptr.close()\n"
   ]
  },
  {
   "cell_type": "markdown",
   "id": "dff8a1fc",
   "metadata": {},
   "source": [
    "#### strange-advertising\n",
    "https://www.hackerrank.com/challenges/strange-advertising"
   ]
  },
  {
   "cell_type": "code",
   "execution_count": null,
   "id": "547497ad",
   "metadata": {},
   "outputs": [],
   "source": [
    "#!/bin/python3\n",
    "\n",
    "import math\n",
    "import os\n",
    "import random\n",
    "import re\n",
    "import sys\n",
    "\n",
    "#\n",
    "# Complete the 'viralAdvertising' function below.\n",
    "#\n",
    "# The function is expected to return an INTEGER.\n",
    "# The function accepts INTEGER n as parameter.\n",
    "#\n",
    "\n",
    "def viralAdvertising(n):\n",
    "    # Write your code here\n",
    "    \n",
    "    if (n<1) or (n>50):\n",
    "        return(\"\")\n",
    "    else:\n",
    "        shared = 5\n",
    "        cumulative = 0\n",
    "        for i in range(n): \n",
    "            liked = shared//2\n",
    "            cumulative += liked\n",
    "            shared = liked*3\n",
    "    return cumulative\n",
    "            \n",
    "\n",
    "if __name__ == '__main__':\n",
    "    fptr = open(os.environ['OUTPUT_PATH'], 'w')\n",
    "\n",
    "    n = int(input().strip())\n",
    "\n",
    "    result = viralAdvertising(n)\n",
    "\n",
    "    fptr.write(str(result) + '\\n')\n",
    "\n",
    "    fptr.close()"
   ]
  },
  {
   "cell_type": "markdown",
   "id": "9e05c8f8",
   "metadata": {},
   "source": [
    "#### recursive-digit-sum\n",
    "https://www.hackerrank.com/challenges/recursive-digit-sum"
   ]
  },
  {
   "cell_type": "code",
   "execution_count": null,
   "id": "8e345830",
   "metadata": {},
   "outputs": [],
   "source": [
    "#!/bin/python3\n",
    "\n",
    "import math\n",
    "import os\n",
    "import random\n",
    "import re\n",
    "import sys\n",
    "\n",
    "#\n",
    "# Complete the 'superDigit' function below.\n",
    "#\n",
    "# The function is expected to return an INTEGER.\n",
    "# The function accepts following parameters:\n",
    "#  1. STRING n\n",
    "#  2. INTEGER k\n",
    "#\n",
    "\n",
    "def superDigit(n, k):\n",
    "    # Write your code here\n",
    "    if (len(n)==1) and (k==1):\n",
    "        return(int(n))\n",
    "    else:\n",
    "        sum_dig = 0\n",
    "        for i in range(len(n)):\n",
    "            sum_dig+=int(n[i])\n",
    "        return superDigit(str(sum_dig*k),1)\n",
    "        \n",
    "    \n",
    "if __name__ == '__main__':\n",
    "    fptr = open(os.environ['OUTPUT_PATH'], 'w')\n",
    "\n",
    "    first_multiple_input = input().rstrip().split()\n",
    "\n",
    "    n = first_multiple_input[0]\n",
    "\n",
    "    k = int(first_multiple_input[1])\n",
    "\n",
    "    result = superDigit(n, k)\n",
    "\n",
    "    fptr.write(str(result) + '\\n')\n",
    "\n",
    "    fptr.close()\n"
   ]
  },
  {
   "cell_type": "markdown",
   "id": "a6c416a1",
   "metadata": {},
   "source": [
    "#### insertionsort1\n",
    "https://www.hackerrank.com/challenges/insertionsort1"
   ]
  },
  {
   "cell_type": "code",
   "execution_count": null,
   "id": "08394474",
   "metadata": {},
   "outputs": [],
   "source": [
    "#!/bin/python3\n",
    "\n",
    "import math\n",
    "import os\n",
    "import random\n",
    "import re\n",
    "import sys\n",
    "\n",
    "#\n",
    "# Complete the 'insertionSort1' function below.\n",
    "#\n",
    "# The function accepts following parameters:\n",
    "#  1. INTEGER n\n",
    "#  2. INTEGER_ARRAY arr\n",
    "#\n",
    "\n",
    "def insertionSort1(n, arr):\n",
    "    # Write your code here\n",
    "    if (n<1) or (n>1000):\n",
    "        print(\"\")\n",
    "    else:\n",
    "        x = arr[-1]\n",
    "        \n",
    "        for i in range(n-1, -1, -1):\n",
    "            if (arr[i-1] > x) and (i>=1):\n",
    "                arr[i] = arr[i-1]\n",
    "                print(\" \".join(map(str,arr)))\n",
    "            else:\n",
    "                arr[i] = x\n",
    "                print(\" \".join(map(str,arr)))\n",
    "                break    \n",
    "        \n",
    "\n",
    "if __name__ == '__main__':\n",
    "    n = int(input().strip())\n",
    "\n",
    "    arr = list(map(int, input().rstrip().split()))\n",
    "\n",
    "    insertionSort1(n, arr)\n"
   ]
  },
  {
   "cell_type": "markdown",
   "id": "3b6f2868",
   "metadata": {},
   "source": [
    "#### insertionsort2\n",
    "https://www.hackerrank.com/challenges/insertionsort2"
   ]
  },
  {
   "cell_type": "code",
   "execution_count": null,
   "id": "66a80c49",
   "metadata": {},
   "outputs": [],
   "source": [
    "#!/bin/python3\n",
    "\n",
    "import math\n",
    "import os\n",
    "import random\n",
    "import re\n",
    "import sys\n",
    "\n",
    "#\n",
    "# Complete the 'insertionSort2' function below.\n",
    "#\n",
    "# The function accepts following parameters:\n",
    "#  1. INTEGER n\n",
    "#  2. INTEGER_ARRAY arr\n",
    "#\n",
    "\n",
    "def insertionSort2(n, arr):\n",
    "    # Write your code here\n",
    "    if (n<1) or (n>1000):\n",
    "        print(\"\")\n",
    "    else:\n",
    "        for i in range(1,len(arr)):\n",
    "            X = arr[i]\n",
    "            j = i-1\n",
    "            while (j>=0) and (arr[j]>X):\n",
    "                arr[j+1] =  arr[j]\n",
    "                j -= 1\n",
    "            \n",
    "            arr[j+1] = X\n",
    "            print(\" \".join(map(str,arr)))\n",
    "    \n",
    "    \n",
    "\n",
    "if __name__ == '__main__':\n",
    "    n = int(input().strip())\n",
    "\n",
    "    arr = list(map(int, input().rstrip().split()))\n",
    "\n",
    "    insertionSort2(n, arr)\n"
   ]
  },
  {
   "cell_type": "code",
   "execution_count": null,
   "id": "1790d744",
   "metadata": {},
   "outputs": [],
   "source": []
  },
  {
   "cell_type": "code",
   "execution_count": null,
   "id": "f3025341",
   "metadata": {},
   "outputs": [],
   "source": []
  }
 ],
 "metadata": {
  "kernelspec": {
   "display_name": "Python 3 (ipykernel)",
   "language": "python",
   "name": "python3"
  },
  "language_info": {
   "codemirror_mode": {
    "name": "ipython",
    "version": 3
   },
   "file_extension": ".py",
   "mimetype": "text/x-python",
   "name": "python",
   "nbconvert_exporter": "python",
   "pygments_lexer": "ipython3",
   "version": "3.9.12"
  }
 },
 "nbformat": 4,
 "nbformat_minor": 5
}
